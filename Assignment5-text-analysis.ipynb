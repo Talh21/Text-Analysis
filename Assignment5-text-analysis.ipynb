{
 "cells": [
  {
   "cell_type": "code",
   "execution_count": 1,
   "metadata": {
    "id": "4BJ14l91KvM2"
   },
   "outputs": [],
   "source": [
    "# --------------------------------------\n",
    "import pandas as pd\n",
    "import numpy as np\n",
    "# --------------------------------------\n",
    "\n",
    "# --------------------------------------\n",
    "# ------------- visualizations:\n",
    "import seaborn as sns\n",
    "import matplotlib.pyplot as plt\n",
    "from matplotlib.colors import ListedColormap\n",
    "# --------------------------------------\n",
    "\n",
    "\n",
    "# ---------------------------------------\n",
    "import sklearn\n",
    "from sklearn import preprocessing, metrics, pipeline, model_selection, feature_extraction \n",
    "from sklearn import naive_bayes, linear_model, svm, neural_network, neighbors, tree\n",
    "from sklearn import decomposition, cluster\n",
    "\n",
    "from sklearn.model_selection import train_test_split, cross_val_score, GridSearchCV \n",
    "from sklearn.pipeline import Pipeline\n",
    "from sklearn.metrics import accuracy_score, confusion_matrix, make_scorer\n",
    "from sklearn.metrics import precision_score, recall_score, f1_score\n",
    "from sklearn.metrics import mean_squared_error, r2_score, silhouette_score\n",
    "from sklearn.preprocessing import MinMaxScaler, StandardScaler, LabelEncoder, MaxAbsScaler\n",
    "\n",
    "from sklearn.svm import LinearSVC\n",
    "from sklearn.neural_network import MLPClassifier\n",
    "from sklearn.linear_model import Perceptron, SGDClassifier\n",
    "from sklearn.decomposition import PCA\n",
    "from sklearn.cluster import KMeans\n",
    "from sklearn.naive_bayes import MultinomialNB, GaussianNB\n",
    "from sklearn.neighbors import KNeighborsClassifier\n",
    "from sklearn.tree import DecisionTreeClassifier\n",
    "# ---------------------------------------\n",
    "\n",
    "\n",
    "# ----------------- output and visualizations: \n",
    "import warnings\n",
    "from sklearn import set_config\n",
    "from sklearn.exceptions import ConvergenceWarning\n",
    "warnings.simplefilter(\"ignore\")\n",
    "warnings.simplefilter(action='ignore', category=FutureWarning)\n",
    "warnings.simplefilter(\"ignore\", category=ConvergenceWarning)\n",
    "# show several prints in one cell. This will allow us to condence every trick in one cell.\n",
    "from IPython.core.interactiveshell import InteractiveShell\n",
    "InteractiveShell.ast_node_interactivity = \"all\"\n",
    "%matplotlib inline\n",
    "pd.pandas.set_option('display.max_columns', None)\n",
    "pd.set_option('display.float_format', lambda x: '%.3f' % x)\n",
    "# ---------------------------------------"
   ]
  },
  {
   "cell_type": "code",
   "execution_count": 2,
   "metadata": {
    "id": "vLGAKrglLHrt"
   },
   "outputs": [],
   "source": [
    "# --------------------------------------\n",
    "# --------- Text analysis and Hebrew text analysis imports:\n",
    "# vectorizers:\n",
    "from sklearn.feature_extraction import text\n",
    "from sklearn.feature_extraction.text import CountVectorizer, TfidfVectorizer\n",
    "\n",
    "# regular expressions:\n",
    "import re\n",
    "# -------------------------------------"
   ]
  },
  {
   "cell_type": "code",
   "execution_count": 3,
   "metadata": {
    "colab": {
     "base_uri": "https://localhost:8080/",
     "height": 108
    },
    "id": "3IsUVf7tLJ1A",
    "outputId": "dee2b471-0405-4020-bc88-a950d2218b35"
   },
   "outputs": [],
   "source": [
    "\n",
    "train_filename = 'annotated_corpus_for_train.csv'\n",
    "test_filename  = 'corpus_for_test.csv'\n",
    "df_train = pd.read_csv(train_filename, index_col=None, encoding='utf-8')\n",
    "df_test  = pd.read_csv(test_filename, index_col=None, encoding='utf-8')"
   ]
  },
  {
   "cell_type": "code",
   "execution_count": 4,
   "metadata": {
    "colab": {
     "base_uri": "https://localhost:8080/",
     "height": 318
    },
    "id": "ZKLP0hkoLOzf",
    "outputId": "c41e64e0-2e6e-4de0-d28b-98cd20b3394c"
   },
   "outputs": [
    {
     "data": {
      "text/html": [
       "<div>\n",
       "<style scoped>\n",
       "    .dataframe tbody tr th:only-of-type {\n",
       "        vertical-align: middle;\n",
       "    }\n",
       "\n",
       "    .dataframe tbody tr th {\n",
       "        vertical-align: top;\n",
       "    }\n",
       "\n",
       "    .dataframe thead th {\n",
       "        text-align: right;\n",
       "    }\n",
       "</style>\n",
       "<table border=\"1\" class=\"dataframe\">\n",
       "  <thead>\n",
       "    <tr style=\"text-align: right;\">\n",
       "      <th></th>\n",
       "      <th>story</th>\n",
       "      <th>gender</th>\n",
       "    </tr>\n",
       "  </thead>\n",
       "  <tbody>\n",
       "    <tr>\n",
       "      <th>0</th>\n",
       "      <td>כשחבר הזמין אותי לחול, לא באמת חשבתי שזה יקרה,...</td>\n",
       "      <td>m</td>\n",
       "    </tr>\n",
       "    <tr>\n",
       "      <th>1</th>\n",
       "      <td>לפני שהתגייסתי לצבא עשיתי כל מני מיונים ליחידו...</td>\n",
       "      <td>m</td>\n",
       "    </tr>\n",
       "    <tr>\n",
       "      <th>2</th>\n",
       "      <td>מאז שהתחילו הלימודים חלומו של כל סטודנט זה הפנ...</td>\n",
       "      <td>f</td>\n",
       "    </tr>\n",
       "    <tr>\n",
       "      <th>3</th>\n",
       "      <td>כשהייתי ילד, מטוסים היה הדבר שהכי ריתק אותי. ב...</td>\n",
       "      <td>m</td>\n",
       "    </tr>\n",
       "    <tr>\n",
       "      <th>4</th>\n",
       "      <td>‏הייתי מדריכה בכפר נוער ומתאם הכפר היינו צריכי...</td>\n",
       "      <td>f</td>\n",
       "    </tr>\n",
       "    <tr>\n",
       "      <th>5</th>\n",
       "      <td>לפני כ3 חודשים טסתי לרומא למשך שבוע. טסתי במטו...</td>\n",
       "      <td>f</td>\n",
       "    </tr>\n",
       "    <tr>\n",
       "      <th>6</th>\n",
       "      <td>אני כבר שנתיים נשוי והשנה אני ואישתי סוף סוף י...</td>\n",
       "      <td>m</td>\n",
       "    </tr>\n",
       "    <tr>\n",
       "      <th>7</th>\n",
       "      <td>השנה התחלנו שיפוץ בדירה שלנו בתל אביב. הדירה ה...</td>\n",
       "      <td>f</td>\n",
       "    </tr>\n",
       "  </tbody>\n",
       "</table>\n",
       "</div>"
      ],
      "text/plain": [
       "                                               story gender\n",
       "0  כשחבר הזמין אותי לחול, לא באמת חשבתי שזה יקרה,...      m\n",
       "1  לפני שהתגייסתי לצבא עשיתי כל מני מיונים ליחידו...      m\n",
       "2  מאז שהתחילו הלימודים חלומו של כל סטודנט זה הפנ...      f\n",
       "3  כשהייתי ילד, מטוסים היה הדבר שהכי ריתק אותי. ב...      m\n",
       "4  ‏הייתי מדריכה בכפר נוער ומתאם הכפר היינו צריכי...      f\n",
       "5  לפני כ3 חודשים טסתי לרומא למשך שבוע. טסתי במטו...      f\n",
       "6  אני כבר שנתיים נשוי והשנה אני ואישתי סוף סוף י...      m\n",
       "7  השנה התחלנו שיפוץ בדירה שלנו בתל אביב. הדירה ה...      f"
      ]
     },
     "execution_count": 4,
     "metadata": {},
     "output_type": "execute_result"
    },
    {
     "data": {
      "text/plain": [
       "(753, 2)"
      ]
     },
     "execution_count": 4,
     "metadata": {},
     "output_type": "execute_result"
    }
   ],
   "source": [
    "df_train.head(8)\n",
    "df_train.shape"
   ]
  },
  {
   "cell_type": "code",
   "execution_count": 5,
   "metadata": {
    "colab": {
     "base_uri": "https://localhost:8080/",
     "height": 318
    },
    "id": "Yg4ALH9DLXRM",
    "outputId": "5cf94dba-b84d-419a-e03c-173874ae29ee"
   },
   "outputs": [
    {
     "data": {
      "text/html": [
       "<div>\n",
       "<style scoped>\n",
       "    .dataframe tbody tr th:only-of-type {\n",
       "        vertical-align: middle;\n",
       "    }\n",
       "\n",
       "    .dataframe tbody tr th {\n",
       "        vertical-align: top;\n",
       "    }\n",
       "\n",
       "    .dataframe thead th {\n",
       "        text-align: right;\n",
       "    }\n",
       "</style>\n",
       "<table border=\"1\" class=\"dataframe\">\n",
       "  <thead>\n",
       "    <tr style=\"text-align: right;\">\n",
       "      <th></th>\n",
       "      <th>test_example_id</th>\n",
       "      <th>story</th>\n",
       "    </tr>\n",
       "  </thead>\n",
       "  <tbody>\n",
       "    <tr>\n",
       "      <th>0</th>\n",
       "      <td>0</td>\n",
       "      <td>כל קיץ אני והמשפחה נוסעים לארצות הברית לוס אנג...</td>\n",
       "    </tr>\n",
       "    <tr>\n",
       "      <th>1</th>\n",
       "      <td>1</td>\n",
       "      <td>הגעתי לשירות המדינה אחרי שנתיים כפעיל בתנועת \"...</td>\n",
       "    </tr>\n",
       "    <tr>\n",
       "      <th>2</th>\n",
       "      <td>2</td>\n",
       "      <td>אחת האהבות הגדולות שלי אלו הכלבים שלי ושל אישת...</td>\n",
       "    </tr>\n",
       "    <tr>\n",
       "      <th>3</th>\n",
       "      <td>3</td>\n",
       "      <td>רגע הגיוס לצבא היה הרגע הכי משמעותי עבורי, אני...</td>\n",
       "    </tr>\n",
       "    <tr>\n",
       "      <th>4</th>\n",
       "      <td>4</td>\n",
       "      <td>אני הגעתי לברזיל ישר מקולומביה וגם אני עשיתי ע...</td>\n",
       "    </tr>\n",
       "    <tr>\n",
       "      <th>5</th>\n",
       "      <td>5</td>\n",
       "      <td>בפעם האחרונה שהייתי מחוץ לארץ ישראל הייתי באפר...</td>\n",
       "    </tr>\n",
       "    <tr>\n",
       "      <th>6</th>\n",
       "      <td>6</td>\n",
       "      <td>בשנת 2018 קיבלתי החלטה שאני מתחיל ללמוד לתואר ...</td>\n",
       "    </tr>\n",
       "    <tr>\n",
       "      <th>7</th>\n",
       "      <td>7</td>\n",
       "      <td>בנובמבר האחרון הייתי עם חברים בטיול ים אל ים, ...</td>\n",
       "    </tr>\n",
       "  </tbody>\n",
       "</table>\n",
       "</div>"
      ],
      "text/plain": [
       "   test_example_id                                              story\n",
       "0                0  כל קיץ אני והמשפחה נוסעים לארצות הברית לוס אנג...\n",
       "1                1  הגעתי לשירות המדינה אחרי שנתיים כפעיל בתנועת \"...\n",
       "2                2  אחת האהבות הגדולות שלי אלו הכלבים שלי ושל אישת...\n",
       "3                3  רגע הגיוס לצבא היה הרגע הכי משמעותי עבורי, אני...\n",
       "4                4  אני הגעתי לברזיל ישר מקולומביה וגם אני עשיתי ע...\n",
       "5                5  בפעם האחרונה שהייתי מחוץ לארץ ישראל הייתי באפר...\n",
       "6                6  בשנת 2018 קיבלתי החלטה שאני מתחיל ללמוד לתואר ...\n",
       "7                7  בנובמבר האחרון הייתי עם חברים בטיול ים אל ים, ..."
      ]
     },
     "execution_count": 5,
     "metadata": {},
     "output_type": "execute_result"
    },
    {
     "data": {
      "text/plain": [
       "(323, 2)"
      ]
     },
     "execution_count": 5,
     "metadata": {},
     "output_type": "execute_result"
    }
   ],
   "source": [
    "df_test.head(8)\n",
    "df_test.shape"
   ]
  },
  {
   "cell_type": "markdown",
   "metadata": {
    "id": "HSGVUfkZctJ5"
   },
   "source": [
    "# Preparing the data for a supervised learning\n",
    "\n",
    "\n",
    "---\n",
    "\n",
    "\n"
   ]
  },
  {
   "cell_type": "code",
   "execution_count": 6,
   "metadata": {
    "id": "2c0BKPZgLZ6a"
   },
   "outputs": [],
   "source": [
    "X_train = df_train[\"story\"]\n",
    "y_train = df_train[\"gender\"]"
   ]
  },
  {
   "cell_type": "markdown",
   "metadata": {
    "id": "_7LLKIfRovTl"
   },
   "source": [
    "# A raw code with 1 model and no Hyperparameters, just for testing\n",
    "\n",
    "---\n",
    "\n"
   ]
  },
  {
   "cell_type": "code",
   "execution_count": 7,
   "metadata": {
    "colab": {
     "base_uri": "https://localhost:8080/"
    },
    "id": "NG54EpblgF_x",
    "outputId": "d1749c61-a292-4341-930b-2e3b527b24cf"
   },
   "outputs": [
    {
     "name": "stdout",
     "output_type": "stream",
     "text": [
      "0.5856652611283314\n"
     ]
    }
   ],
   "source": [
    "pipeline = Pipeline([\n",
    "        ('tfidf', TfidfVectorizer(min_df=5)),\n",
    "        ('norm', preprocessing.Normalizer(norm='l1')),\n",
    "        ('model', Perceptron())\n",
    "    ])\n",
    " \n",
    "cross_val = cross_val_score(pipeline, X_train, y_train, scoring=make_scorer(f1_score, average='macro'), cv=10).mean()\n",
    "print(cross_val)"
   ]
  },
  {
   "cell_type": "markdown",
   "metadata": {
    "id": "e5pciGrzq_jQ"
   },
   "source": [
    "# Creating models list\n",
    "\n",
    "*I'll use this list to perform grid search later on and evaluate these classifiers.*\n",
    "\n",
    "---\n",
    "\n"
   ]
  },
  {
   "cell_type": "code",
   "execution_count": 8,
   "metadata": {
    "id": "w2Z-q1CoNBI1"
   },
   "outputs": [],
   "source": [
    "models = [\n",
    "    ('Perceptron', Perceptron()),\n",
    "    ('LinearSVC', LinearSVC()),\n",
    "    ('DecisionTreeClassifier', DecisionTreeClassifier()),\n",
    "    ('MultinomialNB', MultinomialNB()),\n",
    "    ('SGDClassifier', SGDClassifier()),\n",
    "    ('KNeighborsClassifier', KNeighborsClassifier())\n",
    "]"
   ]
  },
  {
   "cell_type": "markdown",
   "metadata": {
    "id": "4QJXNsgIsDiO"
   },
   "source": [
    "# Making `set_parameters` function:\n",
    "\n",
    "Sets the grid search parameters for each classifier based on its name. For now, it will just take some Hyperparameters for the models.\n",
    "\n",
    "---\n",
    "\n",
    "\n"
   ]
  },
  {
   "cell_type": "code",
   "execution_count": 9,
   "metadata": {
    "id": "g-69cDhBsCj_"
   },
   "outputs": [],
   "source": [
    "def set_parameters():\n",
    "    if name == 'LinearSVC':\n",
    "        parameters = {'model__C': [0.1, 1, 10], 'model__penalty': ['l1', 'l2']}\n",
    "    elif name == 'Perceptron':\n",
    "        parameters = {'model__alpha': [0.0001, 0.001, 0.01], 'model__penalty': ['l1', 'l2']}\n",
    "    elif name == 'DecisionTreeClassifier':\n",
    "        parameters = {'model__max_depth': [5, 10, 15], 'model__min_samples_leaf': [5, 10, 15]}\n",
    "    elif name == 'MultinomialNB':\n",
    "        parameters = {'model__alpha': [0.01, 0.1, 1]}\n",
    "    elif name == 'SGDClassifier':\n",
    "        parameters = {'model__alpha': [1e-3, 1e-4], 'model__penalty': ['l1', 'l2']}\n",
    "    elif name == 'KNeighborsClassifier':\n",
    "        parameters = {'model__n_neighbors': [3, 5, 7]}\n",
    "    \n",
    "    return parameters"
   ]
  },
  {
   "cell_type": "markdown",
   "metadata": {
    "id": "6IDNqhMSsqc9"
   },
   "source": [
    "In this part, the code iterats over each model and creats a pipeline with the specified steps, sets the parameters for grid search using the `set_parameters()` function. Then it will perform grid search with cross-validation using `GridSearchCV` for each model, searching over the specified parameter grid. It will then print the best score, and the best estimator.\n",
    "\n",
    "**best_estimator_**: \n",
    "\n",
    "*Estimator that was chosen by the search, i.e. estimator which gave highest score (or smallest loss if specified) on the left out data.*\n",
    "\n",
    "**best_score_**:\n",
    "\n",
    "Mean cross-validated score of the best_estimator\n",
    "\n",
    "[sklearn.model_selection.GridSearchCV](https://scikit-learn.org/stable/modules/generated/sklearn.model_selection.GridSearchCV.html)\n",
    "\n",
    "---\n",
    "\n",
    "\n"
   ]
  },
  {
   "cell_type": "code",
   "execution_count": 12,
   "metadata": {
    "colab": {
     "base_uri": "https://localhost:8080/",
     "height": 1000
    },
    "id": "HSOTvttytbVJ",
    "outputId": "2466aeb6-c7f1-4901-ec9f-ecdb1abdf12d"
   },
   "outputs": [
    {
     "data": {
      "text/html": [
       "<style>#sk-a2c5583b-eca0-4b88-806e-8b6aa7167834 {color: black;background-color: white;}#sk-a2c5583b-eca0-4b88-806e-8b6aa7167834 pre{padding: 0;}#sk-a2c5583b-eca0-4b88-806e-8b6aa7167834 div.sk-toggleable {background-color: white;}#sk-a2c5583b-eca0-4b88-806e-8b6aa7167834 label.sk-toggleable__label {cursor: pointer;display: block;width: 100%;margin-bottom: 0;padding: 0.3em;box-sizing: border-box;text-align: center;}#sk-a2c5583b-eca0-4b88-806e-8b6aa7167834 label.sk-toggleable__label-arrow:before {content: \"▸\";float: left;margin-right: 0.25em;color: #696969;}#sk-a2c5583b-eca0-4b88-806e-8b6aa7167834 label.sk-toggleable__label-arrow:hover:before {color: black;}#sk-a2c5583b-eca0-4b88-806e-8b6aa7167834 div.sk-estimator:hover label.sk-toggleable__label-arrow:before {color: black;}#sk-a2c5583b-eca0-4b88-806e-8b6aa7167834 div.sk-toggleable__content {max-height: 0;max-width: 0;overflow: hidden;text-align: left;background-color: #f0f8ff;}#sk-a2c5583b-eca0-4b88-806e-8b6aa7167834 div.sk-toggleable__content pre {margin: 0.2em;color: black;border-radius: 0.25em;background-color: #f0f8ff;}#sk-a2c5583b-eca0-4b88-806e-8b6aa7167834 input.sk-toggleable__control:checked~div.sk-toggleable__content {max-height: 200px;max-width: 100%;overflow: auto;}#sk-a2c5583b-eca0-4b88-806e-8b6aa7167834 input.sk-toggleable__control:checked~label.sk-toggleable__label-arrow:before {content: \"▾\";}#sk-a2c5583b-eca0-4b88-806e-8b6aa7167834 div.sk-estimator input.sk-toggleable__control:checked~label.sk-toggleable__label {background-color: #d4ebff;}#sk-a2c5583b-eca0-4b88-806e-8b6aa7167834 div.sk-label input.sk-toggleable__control:checked~label.sk-toggleable__label {background-color: #d4ebff;}#sk-a2c5583b-eca0-4b88-806e-8b6aa7167834 input.sk-hidden--visually {border: 0;clip: rect(1px 1px 1px 1px);clip: rect(1px, 1px, 1px, 1px);height: 1px;margin: -1px;overflow: hidden;padding: 0;position: absolute;width: 1px;}#sk-a2c5583b-eca0-4b88-806e-8b6aa7167834 div.sk-estimator {font-family: monospace;background-color: #f0f8ff;border: 1px dotted black;border-radius: 0.25em;box-sizing: border-box;margin-bottom: 0.5em;}#sk-a2c5583b-eca0-4b88-806e-8b6aa7167834 div.sk-estimator:hover {background-color: #d4ebff;}#sk-a2c5583b-eca0-4b88-806e-8b6aa7167834 div.sk-parallel-item::after {content: \"\";width: 100%;border-bottom: 1px solid gray;flex-grow: 1;}#sk-a2c5583b-eca0-4b88-806e-8b6aa7167834 div.sk-label:hover label.sk-toggleable__label {background-color: #d4ebff;}#sk-a2c5583b-eca0-4b88-806e-8b6aa7167834 div.sk-serial::before {content: \"\";position: absolute;border-left: 1px solid gray;box-sizing: border-box;top: 2em;bottom: 0;left: 50%;}#sk-a2c5583b-eca0-4b88-806e-8b6aa7167834 div.sk-serial {display: flex;flex-direction: column;align-items: center;background-color: white;padding-right: 0.2em;padding-left: 0.2em;}#sk-a2c5583b-eca0-4b88-806e-8b6aa7167834 div.sk-item {z-index: 1;}#sk-a2c5583b-eca0-4b88-806e-8b6aa7167834 div.sk-parallel {display: flex;align-items: stretch;justify-content: center;background-color: white;}#sk-a2c5583b-eca0-4b88-806e-8b6aa7167834 div.sk-parallel::before {content: \"\";position: absolute;border-left: 1px solid gray;box-sizing: border-box;top: 2em;bottom: 0;left: 50%;}#sk-a2c5583b-eca0-4b88-806e-8b6aa7167834 div.sk-parallel-item {display: flex;flex-direction: column;position: relative;background-color: white;}#sk-a2c5583b-eca0-4b88-806e-8b6aa7167834 div.sk-parallel-item:first-child::after {align-self: flex-end;width: 50%;}#sk-a2c5583b-eca0-4b88-806e-8b6aa7167834 div.sk-parallel-item:last-child::after {align-self: flex-start;width: 50%;}#sk-a2c5583b-eca0-4b88-806e-8b6aa7167834 div.sk-parallel-item:only-child::after {width: 0;}#sk-a2c5583b-eca0-4b88-806e-8b6aa7167834 div.sk-dashed-wrapped {border: 1px dashed gray;margin: 0 0.4em 0.5em 0.4em;box-sizing: border-box;padding-bottom: 0.4em;background-color: white;position: relative;}#sk-a2c5583b-eca0-4b88-806e-8b6aa7167834 div.sk-label label {font-family: monospace;font-weight: bold;background-color: white;display: inline-block;line-height: 1.2em;}#sk-a2c5583b-eca0-4b88-806e-8b6aa7167834 div.sk-label-container {position: relative;z-index: 2;text-align: center;}#sk-a2c5583b-eca0-4b88-806e-8b6aa7167834 div.sk-container {/* jupyter's `normalize.less` sets `[hidden] { display: none; }` but bootstrap.min.css set `[hidden] { display: none !important; }` so we also need the `!important` here to be able to override the default hidden behavior on the sphinx rendered scikit-learn.org. See: https://github.com/scikit-learn/scikit-learn/issues/21755 */display: inline-block !important;position: relative;}#sk-a2c5583b-eca0-4b88-806e-8b6aa7167834 div.sk-text-repr-fallback {display: none;}</style><div id=\"sk-a2c5583b-eca0-4b88-806e-8b6aa7167834\" class=\"sk-top-container\"><div class=\"sk-text-repr-fallback\"><pre>GridSearchCV(cv=10,\n",
       "             estimator=Pipeline(steps=[(&#x27;tfidf&#x27;, TfidfVectorizer()),\n",
       "                                       (&#x27;norm&#x27;, Normalizer(norm=&#x27;l1&#x27;)),\n",
       "                                       (&#x27;model&#x27;, Perceptron())]),\n",
       "             param_grid={&#x27;model__alpha&#x27;: [0.0001, 0.001, 0.01],\n",
       "                         &#x27;model__penalty&#x27;: [&#x27;l1&#x27;, &#x27;l2&#x27;]},\n",
       "             scoring=make_scorer(f1_score, average=macro))</pre><b>Please rerun this cell to show the HTML repr or trust the notebook.</b></div><div class=\"sk-container\" hidden><div class=\"sk-item sk-dashed-wrapped\"><div class=\"sk-label-container\"><div class=\"sk-label sk-toggleable\"><input class=\"sk-toggleable__control sk-hidden--visually\" id=\"7f46262c-bb96-422c-a9d3-8cbfa2669c1b\" type=\"checkbox\" ><label for=\"7f46262c-bb96-422c-a9d3-8cbfa2669c1b\" class=\"sk-toggleable__label sk-toggleable__label-arrow\">GridSearchCV</label><div class=\"sk-toggleable__content\"><pre>GridSearchCV(cv=10,\n",
       "             estimator=Pipeline(steps=[(&#x27;tfidf&#x27;, TfidfVectorizer()),\n",
       "                                       (&#x27;norm&#x27;, Normalizer(norm=&#x27;l1&#x27;)),\n",
       "                                       (&#x27;model&#x27;, Perceptron())]),\n",
       "             param_grid={&#x27;model__alpha&#x27;: [0.0001, 0.001, 0.01],\n",
       "                         &#x27;model__penalty&#x27;: [&#x27;l1&#x27;, &#x27;l2&#x27;]},\n",
       "             scoring=make_scorer(f1_score, average=macro))</pre></div></div></div><div class=\"sk-parallel\"><div class=\"sk-parallel-item\"><div class=\"sk-item\"><div class=\"sk-serial\"><div class=\"sk-item\"><div class=\"sk-serial\"><div class=\"sk-item\"><div class=\"sk-estimator sk-toggleable\"><input class=\"sk-toggleable__control sk-hidden--visually\" id=\"b77662c0-e01e-4e4d-bcbf-2a30b69a193a\" type=\"checkbox\" ><label for=\"b77662c0-e01e-4e4d-bcbf-2a30b69a193a\" class=\"sk-toggleable__label sk-toggleable__label-arrow\">TfidfVectorizer</label><div class=\"sk-toggleable__content\"><pre>TfidfVectorizer()</pre></div></div></div><div class=\"sk-item\"><div class=\"sk-estimator sk-toggleable\"><input class=\"sk-toggleable__control sk-hidden--visually\" id=\"d662102d-7be5-4109-8919-9edc9e7dc48b\" type=\"checkbox\" ><label for=\"d662102d-7be5-4109-8919-9edc9e7dc48b\" class=\"sk-toggleable__label sk-toggleable__label-arrow\">Normalizer</label><div class=\"sk-toggleable__content\"><pre>Normalizer(norm=&#x27;l1&#x27;)</pre></div></div></div><div class=\"sk-item\"><div class=\"sk-estimator sk-toggleable\"><input class=\"sk-toggleable__control sk-hidden--visually\" id=\"761a6c19-da2d-41cb-b07b-bb7204db8ef7\" type=\"checkbox\" ><label for=\"761a6c19-da2d-41cb-b07b-bb7204db8ef7\" class=\"sk-toggleable__label sk-toggleable__label-arrow\">Perceptron</label><div class=\"sk-toggleable__content\"><pre>Perceptron()</pre></div></div></div></div></div></div></div></div></div></div></div></div>"
      ],
      "text/plain": [
       "GridSearchCV(cv=10,\n",
       "             estimator=Pipeline(steps=[('tfidf', TfidfVectorizer()),\n",
       "                                       ('norm', Normalizer(norm='l1')),\n",
       "                                       ('model', Perceptron())]),\n",
       "             param_grid={'model__alpha': [0.0001, 0.001, 0.01],\n",
       "                         'model__penalty': ['l1', 'l2']},\n",
       "             scoring=make_scorer(f1_score, average=macro))"
      ]
     },
     "execution_count": 12,
     "metadata": {},
     "output_type": "execute_result"
    },
    {
     "name": "stdout",
     "output_type": "stream",
     "text": [
      "Best score is: 0.534\n",
      "Best estimator: Pipeline(steps=[('tfidf', TfidfVectorizer()), ('norm', Normalizer(norm='l1')),\n",
      "                ('model', Perceptron(penalty='l2'))])\n"
     ]
    },
    {
     "data": {
      "text/html": [
       "<style>#sk-e9e4359e-d154-49b1-89d2-772c10c6a4cf {color: black;background-color: white;}#sk-e9e4359e-d154-49b1-89d2-772c10c6a4cf pre{padding: 0;}#sk-e9e4359e-d154-49b1-89d2-772c10c6a4cf div.sk-toggleable {background-color: white;}#sk-e9e4359e-d154-49b1-89d2-772c10c6a4cf label.sk-toggleable__label {cursor: pointer;display: block;width: 100%;margin-bottom: 0;padding: 0.3em;box-sizing: border-box;text-align: center;}#sk-e9e4359e-d154-49b1-89d2-772c10c6a4cf label.sk-toggleable__label-arrow:before {content: \"▸\";float: left;margin-right: 0.25em;color: #696969;}#sk-e9e4359e-d154-49b1-89d2-772c10c6a4cf label.sk-toggleable__label-arrow:hover:before {color: black;}#sk-e9e4359e-d154-49b1-89d2-772c10c6a4cf div.sk-estimator:hover label.sk-toggleable__label-arrow:before {color: black;}#sk-e9e4359e-d154-49b1-89d2-772c10c6a4cf div.sk-toggleable__content {max-height: 0;max-width: 0;overflow: hidden;text-align: left;background-color: #f0f8ff;}#sk-e9e4359e-d154-49b1-89d2-772c10c6a4cf div.sk-toggleable__content pre {margin: 0.2em;color: black;border-radius: 0.25em;background-color: #f0f8ff;}#sk-e9e4359e-d154-49b1-89d2-772c10c6a4cf input.sk-toggleable__control:checked~div.sk-toggleable__content {max-height: 200px;max-width: 100%;overflow: auto;}#sk-e9e4359e-d154-49b1-89d2-772c10c6a4cf input.sk-toggleable__control:checked~label.sk-toggleable__label-arrow:before {content: \"▾\";}#sk-e9e4359e-d154-49b1-89d2-772c10c6a4cf div.sk-estimator input.sk-toggleable__control:checked~label.sk-toggleable__label {background-color: #d4ebff;}#sk-e9e4359e-d154-49b1-89d2-772c10c6a4cf div.sk-label input.sk-toggleable__control:checked~label.sk-toggleable__label {background-color: #d4ebff;}#sk-e9e4359e-d154-49b1-89d2-772c10c6a4cf input.sk-hidden--visually {border: 0;clip: rect(1px 1px 1px 1px);clip: rect(1px, 1px, 1px, 1px);height: 1px;margin: -1px;overflow: hidden;padding: 0;position: absolute;width: 1px;}#sk-e9e4359e-d154-49b1-89d2-772c10c6a4cf div.sk-estimator {font-family: monospace;background-color: #f0f8ff;border: 1px dotted black;border-radius: 0.25em;box-sizing: border-box;margin-bottom: 0.5em;}#sk-e9e4359e-d154-49b1-89d2-772c10c6a4cf div.sk-estimator:hover {background-color: #d4ebff;}#sk-e9e4359e-d154-49b1-89d2-772c10c6a4cf div.sk-parallel-item::after {content: \"\";width: 100%;border-bottom: 1px solid gray;flex-grow: 1;}#sk-e9e4359e-d154-49b1-89d2-772c10c6a4cf div.sk-label:hover label.sk-toggleable__label {background-color: #d4ebff;}#sk-e9e4359e-d154-49b1-89d2-772c10c6a4cf div.sk-serial::before {content: \"\";position: absolute;border-left: 1px solid gray;box-sizing: border-box;top: 2em;bottom: 0;left: 50%;}#sk-e9e4359e-d154-49b1-89d2-772c10c6a4cf div.sk-serial {display: flex;flex-direction: column;align-items: center;background-color: white;padding-right: 0.2em;padding-left: 0.2em;}#sk-e9e4359e-d154-49b1-89d2-772c10c6a4cf div.sk-item {z-index: 1;}#sk-e9e4359e-d154-49b1-89d2-772c10c6a4cf div.sk-parallel {display: flex;align-items: stretch;justify-content: center;background-color: white;}#sk-e9e4359e-d154-49b1-89d2-772c10c6a4cf div.sk-parallel::before {content: \"\";position: absolute;border-left: 1px solid gray;box-sizing: border-box;top: 2em;bottom: 0;left: 50%;}#sk-e9e4359e-d154-49b1-89d2-772c10c6a4cf div.sk-parallel-item {display: flex;flex-direction: column;position: relative;background-color: white;}#sk-e9e4359e-d154-49b1-89d2-772c10c6a4cf div.sk-parallel-item:first-child::after {align-self: flex-end;width: 50%;}#sk-e9e4359e-d154-49b1-89d2-772c10c6a4cf div.sk-parallel-item:last-child::after {align-self: flex-start;width: 50%;}#sk-e9e4359e-d154-49b1-89d2-772c10c6a4cf div.sk-parallel-item:only-child::after {width: 0;}#sk-e9e4359e-d154-49b1-89d2-772c10c6a4cf div.sk-dashed-wrapped {border: 1px dashed gray;margin: 0 0.4em 0.5em 0.4em;box-sizing: border-box;padding-bottom: 0.4em;background-color: white;position: relative;}#sk-e9e4359e-d154-49b1-89d2-772c10c6a4cf div.sk-label label {font-family: monospace;font-weight: bold;background-color: white;display: inline-block;line-height: 1.2em;}#sk-e9e4359e-d154-49b1-89d2-772c10c6a4cf div.sk-label-container {position: relative;z-index: 2;text-align: center;}#sk-e9e4359e-d154-49b1-89d2-772c10c6a4cf div.sk-container {/* jupyter's `normalize.less` sets `[hidden] { display: none; }` but bootstrap.min.css set `[hidden] { display: none !important; }` so we also need the `!important` here to be able to override the default hidden behavior on the sphinx rendered scikit-learn.org. See: https://github.com/scikit-learn/scikit-learn/issues/21755 */display: inline-block !important;position: relative;}#sk-e9e4359e-d154-49b1-89d2-772c10c6a4cf div.sk-text-repr-fallback {display: none;}</style><div id=\"sk-e9e4359e-d154-49b1-89d2-772c10c6a4cf\" class=\"sk-top-container\"><div class=\"sk-text-repr-fallback\"><pre>GridSearchCV(cv=10,\n",
       "             estimator=Pipeline(steps=[(&#x27;tfidf&#x27;, TfidfVectorizer()),\n",
       "                                       (&#x27;norm&#x27;, Normalizer(norm=&#x27;l1&#x27;)),\n",
       "                                       (&#x27;model&#x27;, LinearSVC())]),\n",
       "             param_grid={&#x27;model__C&#x27;: [0.1, 1, 10],\n",
       "                         &#x27;model__penalty&#x27;: [&#x27;l1&#x27;, &#x27;l2&#x27;]},\n",
       "             scoring=make_scorer(f1_score, average=macro))</pre><b>Please rerun this cell to show the HTML repr or trust the notebook.</b></div><div class=\"sk-container\" hidden><div class=\"sk-item sk-dashed-wrapped\"><div class=\"sk-label-container\"><div class=\"sk-label sk-toggleable\"><input class=\"sk-toggleable__control sk-hidden--visually\" id=\"6740ee68-9755-4cbe-88c1-5cf404af2441\" type=\"checkbox\" ><label for=\"6740ee68-9755-4cbe-88c1-5cf404af2441\" class=\"sk-toggleable__label sk-toggleable__label-arrow\">GridSearchCV</label><div class=\"sk-toggleable__content\"><pre>GridSearchCV(cv=10,\n",
       "             estimator=Pipeline(steps=[(&#x27;tfidf&#x27;, TfidfVectorizer()),\n",
       "                                       (&#x27;norm&#x27;, Normalizer(norm=&#x27;l1&#x27;)),\n",
       "                                       (&#x27;model&#x27;, LinearSVC())]),\n",
       "             param_grid={&#x27;model__C&#x27;: [0.1, 1, 10],\n",
       "                         &#x27;model__penalty&#x27;: [&#x27;l1&#x27;, &#x27;l2&#x27;]},\n",
       "             scoring=make_scorer(f1_score, average=macro))</pre></div></div></div><div class=\"sk-parallel\"><div class=\"sk-parallel-item\"><div class=\"sk-item\"><div class=\"sk-serial\"><div class=\"sk-item\"><div class=\"sk-serial\"><div class=\"sk-item\"><div class=\"sk-estimator sk-toggleable\"><input class=\"sk-toggleable__control sk-hidden--visually\" id=\"758d5c24-c606-472c-9cfe-967f050f7afe\" type=\"checkbox\" ><label for=\"758d5c24-c606-472c-9cfe-967f050f7afe\" class=\"sk-toggleable__label sk-toggleable__label-arrow\">TfidfVectorizer</label><div class=\"sk-toggleable__content\"><pre>TfidfVectorizer()</pre></div></div></div><div class=\"sk-item\"><div class=\"sk-estimator sk-toggleable\"><input class=\"sk-toggleable__control sk-hidden--visually\" id=\"e8d79a4d-92f4-4a7d-b2d6-c64b15131278\" type=\"checkbox\" ><label for=\"e8d79a4d-92f4-4a7d-b2d6-c64b15131278\" class=\"sk-toggleable__label sk-toggleable__label-arrow\">Normalizer</label><div class=\"sk-toggleable__content\"><pre>Normalizer(norm=&#x27;l1&#x27;)</pre></div></div></div><div class=\"sk-item\"><div class=\"sk-estimator sk-toggleable\"><input class=\"sk-toggleable__control sk-hidden--visually\" id=\"58041346-e3e0-46ab-af52-64b9a49df0bf\" type=\"checkbox\" ><label for=\"58041346-e3e0-46ab-af52-64b9a49df0bf\" class=\"sk-toggleable__label sk-toggleable__label-arrow\">LinearSVC</label><div class=\"sk-toggleable__content\"><pre>LinearSVC()</pre></div></div></div></div></div></div></div></div></div></div></div></div>"
      ],
      "text/plain": [
       "GridSearchCV(cv=10,\n",
       "             estimator=Pipeline(steps=[('tfidf', TfidfVectorizer()),\n",
       "                                       ('norm', Normalizer(norm='l1')),\n",
       "                                       ('model', LinearSVC())]),\n",
       "             param_grid={'model__C': [0.1, 1, 10],\n",
       "                         'model__penalty': ['l1', 'l2']},\n",
       "             scoring=make_scorer(f1_score, average=macro))"
      ]
     },
     "execution_count": 12,
     "metadata": {},
     "output_type": "execute_result"
    },
    {
     "name": "stdout",
     "output_type": "stream",
     "text": [
      "Best score is: 0.433\n",
      "Best estimator: Pipeline(steps=[('tfidf', TfidfVectorizer()), ('norm', Normalizer(norm='l1')),\n",
      "                ('model', LinearSVC(C=0.1))])\n"
     ]
    },
    {
     "data": {
      "text/html": [
       "<style>#sk-2d05731e-d00d-4d4b-9449-674c5e6f3043 {color: black;background-color: white;}#sk-2d05731e-d00d-4d4b-9449-674c5e6f3043 pre{padding: 0;}#sk-2d05731e-d00d-4d4b-9449-674c5e6f3043 div.sk-toggleable {background-color: white;}#sk-2d05731e-d00d-4d4b-9449-674c5e6f3043 label.sk-toggleable__label {cursor: pointer;display: block;width: 100%;margin-bottom: 0;padding: 0.3em;box-sizing: border-box;text-align: center;}#sk-2d05731e-d00d-4d4b-9449-674c5e6f3043 label.sk-toggleable__label-arrow:before {content: \"▸\";float: left;margin-right: 0.25em;color: #696969;}#sk-2d05731e-d00d-4d4b-9449-674c5e6f3043 label.sk-toggleable__label-arrow:hover:before {color: black;}#sk-2d05731e-d00d-4d4b-9449-674c5e6f3043 div.sk-estimator:hover label.sk-toggleable__label-arrow:before {color: black;}#sk-2d05731e-d00d-4d4b-9449-674c5e6f3043 div.sk-toggleable__content {max-height: 0;max-width: 0;overflow: hidden;text-align: left;background-color: #f0f8ff;}#sk-2d05731e-d00d-4d4b-9449-674c5e6f3043 div.sk-toggleable__content pre {margin: 0.2em;color: black;border-radius: 0.25em;background-color: #f0f8ff;}#sk-2d05731e-d00d-4d4b-9449-674c5e6f3043 input.sk-toggleable__control:checked~div.sk-toggleable__content {max-height: 200px;max-width: 100%;overflow: auto;}#sk-2d05731e-d00d-4d4b-9449-674c5e6f3043 input.sk-toggleable__control:checked~label.sk-toggleable__label-arrow:before {content: \"▾\";}#sk-2d05731e-d00d-4d4b-9449-674c5e6f3043 div.sk-estimator input.sk-toggleable__control:checked~label.sk-toggleable__label {background-color: #d4ebff;}#sk-2d05731e-d00d-4d4b-9449-674c5e6f3043 div.sk-label input.sk-toggleable__control:checked~label.sk-toggleable__label {background-color: #d4ebff;}#sk-2d05731e-d00d-4d4b-9449-674c5e6f3043 input.sk-hidden--visually {border: 0;clip: rect(1px 1px 1px 1px);clip: rect(1px, 1px, 1px, 1px);height: 1px;margin: -1px;overflow: hidden;padding: 0;position: absolute;width: 1px;}#sk-2d05731e-d00d-4d4b-9449-674c5e6f3043 div.sk-estimator {font-family: monospace;background-color: #f0f8ff;border: 1px dotted black;border-radius: 0.25em;box-sizing: border-box;margin-bottom: 0.5em;}#sk-2d05731e-d00d-4d4b-9449-674c5e6f3043 div.sk-estimator:hover {background-color: #d4ebff;}#sk-2d05731e-d00d-4d4b-9449-674c5e6f3043 div.sk-parallel-item::after {content: \"\";width: 100%;border-bottom: 1px solid gray;flex-grow: 1;}#sk-2d05731e-d00d-4d4b-9449-674c5e6f3043 div.sk-label:hover label.sk-toggleable__label {background-color: #d4ebff;}#sk-2d05731e-d00d-4d4b-9449-674c5e6f3043 div.sk-serial::before {content: \"\";position: absolute;border-left: 1px solid gray;box-sizing: border-box;top: 2em;bottom: 0;left: 50%;}#sk-2d05731e-d00d-4d4b-9449-674c5e6f3043 div.sk-serial {display: flex;flex-direction: column;align-items: center;background-color: white;padding-right: 0.2em;padding-left: 0.2em;}#sk-2d05731e-d00d-4d4b-9449-674c5e6f3043 div.sk-item {z-index: 1;}#sk-2d05731e-d00d-4d4b-9449-674c5e6f3043 div.sk-parallel {display: flex;align-items: stretch;justify-content: center;background-color: white;}#sk-2d05731e-d00d-4d4b-9449-674c5e6f3043 div.sk-parallel::before {content: \"\";position: absolute;border-left: 1px solid gray;box-sizing: border-box;top: 2em;bottom: 0;left: 50%;}#sk-2d05731e-d00d-4d4b-9449-674c5e6f3043 div.sk-parallel-item {display: flex;flex-direction: column;position: relative;background-color: white;}#sk-2d05731e-d00d-4d4b-9449-674c5e6f3043 div.sk-parallel-item:first-child::after {align-self: flex-end;width: 50%;}#sk-2d05731e-d00d-4d4b-9449-674c5e6f3043 div.sk-parallel-item:last-child::after {align-self: flex-start;width: 50%;}#sk-2d05731e-d00d-4d4b-9449-674c5e6f3043 div.sk-parallel-item:only-child::after {width: 0;}#sk-2d05731e-d00d-4d4b-9449-674c5e6f3043 div.sk-dashed-wrapped {border: 1px dashed gray;margin: 0 0.4em 0.5em 0.4em;box-sizing: border-box;padding-bottom: 0.4em;background-color: white;position: relative;}#sk-2d05731e-d00d-4d4b-9449-674c5e6f3043 div.sk-label label {font-family: monospace;font-weight: bold;background-color: white;display: inline-block;line-height: 1.2em;}#sk-2d05731e-d00d-4d4b-9449-674c5e6f3043 div.sk-label-container {position: relative;z-index: 2;text-align: center;}#sk-2d05731e-d00d-4d4b-9449-674c5e6f3043 div.sk-container {/* jupyter's `normalize.less` sets `[hidden] { display: none; }` but bootstrap.min.css set `[hidden] { display: none !important; }` so we also need the `!important` here to be able to override the default hidden behavior on the sphinx rendered scikit-learn.org. See: https://github.com/scikit-learn/scikit-learn/issues/21755 */display: inline-block !important;position: relative;}#sk-2d05731e-d00d-4d4b-9449-674c5e6f3043 div.sk-text-repr-fallback {display: none;}</style><div id=\"sk-2d05731e-d00d-4d4b-9449-674c5e6f3043\" class=\"sk-top-container\"><div class=\"sk-text-repr-fallback\"><pre>GridSearchCV(cv=10,\n",
       "             estimator=Pipeline(steps=[(&#x27;tfidf&#x27;, TfidfVectorizer()),\n",
       "                                       (&#x27;norm&#x27;, Normalizer(norm=&#x27;l1&#x27;)),\n",
       "                                       (&#x27;model&#x27;, DecisionTreeClassifier())]),\n",
       "             param_grid={&#x27;model__max_depth&#x27;: [5, 10, 15],\n",
       "                         &#x27;model__min_samples_leaf&#x27;: [5, 10, 15]},\n",
       "             scoring=make_scorer(f1_score, average=macro))</pre><b>Please rerun this cell to show the HTML repr or trust the notebook.</b></div><div class=\"sk-container\" hidden><div class=\"sk-item sk-dashed-wrapped\"><div class=\"sk-label-container\"><div class=\"sk-label sk-toggleable\"><input class=\"sk-toggleable__control sk-hidden--visually\" id=\"a07bab74-0bf1-4004-9441-f49d06a30c10\" type=\"checkbox\" ><label for=\"a07bab74-0bf1-4004-9441-f49d06a30c10\" class=\"sk-toggleable__label sk-toggleable__label-arrow\">GridSearchCV</label><div class=\"sk-toggleable__content\"><pre>GridSearchCV(cv=10,\n",
       "             estimator=Pipeline(steps=[(&#x27;tfidf&#x27;, TfidfVectorizer()),\n",
       "                                       (&#x27;norm&#x27;, Normalizer(norm=&#x27;l1&#x27;)),\n",
       "                                       (&#x27;model&#x27;, DecisionTreeClassifier())]),\n",
       "             param_grid={&#x27;model__max_depth&#x27;: [5, 10, 15],\n",
       "                         &#x27;model__min_samples_leaf&#x27;: [5, 10, 15]},\n",
       "             scoring=make_scorer(f1_score, average=macro))</pre></div></div></div><div class=\"sk-parallel\"><div class=\"sk-parallel-item\"><div class=\"sk-item\"><div class=\"sk-serial\"><div class=\"sk-item\"><div class=\"sk-serial\"><div class=\"sk-item\"><div class=\"sk-estimator sk-toggleable\"><input class=\"sk-toggleable__control sk-hidden--visually\" id=\"6dd0a03b-30ff-4724-880d-72defe6fb135\" type=\"checkbox\" ><label for=\"6dd0a03b-30ff-4724-880d-72defe6fb135\" class=\"sk-toggleable__label sk-toggleable__label-arrow\">TfidfVectorizer</label><div class=\"sk-toggleable__content\"><pre>TfidfVectorizer()</pre></div></div></div><div class=\"sk-item\"><div class=\"sk-estimator sk-toggleable\"><input class=\"sk-toggleable__control sk-hidden--visually\" id=\"22b7095f-4b7f-4148-88dd-6e9e33cf0ae1\" type=\"checkbox\" ><label for=\"22b7095f-4b7f-4148-88dd-6e9e33cf0ae1\" class=\"sk-toggleable__label sk-toggleable__label-arrow\">Normalizer</label><div class=\"sk-toggleable__content\"><pre>Normalizer(norm=&#x27;l1&#x27;)</pre></div></div></div><div class=\"sk-item\"><div class=\"sk-estimator sk-toggleable\"><input class=\"sk-toggleable__control sk-hidden--visually\" id=\"6fb10670-a3e2-43c6-a887-ed13ed13ca7f\" type=\"checkbox\" ><label for=\"6fb10670-a3e2-43c6-a887-ed13ed13ca7f\" class=\"sk-toggleable__label sk-toggleable__label-arrow\">DecisionTreeClassifier</label><div class=\"sk-toggleable__content\"><pre>DecisionTreeClassifier()</pre></div></div></div></div></div></div></div></div></div></div></div></div>"
      ],
      "text/plain": [
       "GridSearchCV(cv=10,\n",
       "             estimator=Pipeline(steps=[('tfidf', TfidfVectorizer()),\n",
       "                                       ('norm', Normalizer(norm='l1')),\n",
       "                                       ('model', DecisionTreeClassifier())]),\n",
       "             param_grid={'model__max_depth': [5, 10, 15],\n",
       "                         'model__min_samples_leaf': [5, 10, 15]},\n",
       "             scoring=make_scorer(f1_score, average=macro))"
      ]
     },
     "execution_count": 12,
     "metadata": {},
     "output_type": "execute_result"
    },
    {
     "name": "stdout",
     "output_type": "stream",
     "text": [
      "Best score is: 0.586\n",
      "Best estimator: Pipeline(steps=[('tfidf', TfidfVectorizer()), ('norm', Normalizer(norm='l1')),\n",
      "                ('model',\n",
      "                 DecisionTreeClassifier(max_depth=10, min_samples_leaf=15))])\n"
     ]
    },
    {
     "data": {
      "text/html": [
       "<style>#sk-2cf92248-6e9f-49c6-8cd1-918b96336cbc {color: black;background-color: white;}#sk-2cf92248-6e9f-49c6-8cd1-918b96336cbc pre{padding: 0;}#sk-2cf92248-6e9f-49c6-8cd1-918b96336cbc div.sk-toggleable {background-color: white;}#sk-2cf92248-6e9f-49c6-8cd1-918b96336cbc label.sk-toggleable__label {cursor: pointer;display: block;width: 100%;margin-bottom: 0;padding: 0.3em;box-sizing: border-box;text-align: center;}#sk-2cf92248-6e9f-49c6-8cd1-918b96336cbc label.sk-toggleable__label-arrow:before {content: \"▸\";float: left;margin-right: 0.25em;color: #696969;}#sk-2cf92248-6e9f-49c6-8cd1-918b96336cbc label.sk-toggleable__label-arrow:hover:before {color: black;}#sk-2cf92248-6e9f-49c6-8cd1-918b96336cbc div.sk-estimator:hover label.sk-toggleable__label-arrow:before {color: black;}#sk-2cf92248-6e9f-49c6-8cd1-918b96336cbc div.sk-toggleable__content {max-height: 0;max-width: 0;overflow: hidden;text-align: left;background-color: #f0f8ff;}#sk-2cf92248-6e9f-49c6-8cd1-918b96336cbc div.sk-toggleable__content pre {margin: 0.2em;color: black;border-radius: 0.25em;background-color: #f0f8ff;}#sk-2cf92248-6e9f-49c6-8cd1-918b96336cbc input.sk-toggleable__control:checked~div.sk-toggleable__content {max-height: 200px;max-width: 100%;overflow: auto;}#sk-2cf92248-6e9f-49c6-8cd1-918b96336cbc input.sk-toggleable__control:checked~label.sk-toggleable__label-arrow:before {content: \"▾\";}#sk-2cf92248-6e9f-49c6-8cd1-918b96336cbc div.sk-estimator input.sk-toggleable__control:checked~label.sk-toggleable__label {background-color: #d4ebff;}#sk-2cf92248-6e9f-49c6-8cd1-918b96336cbc div.sk-label input.sk-toggleable__control:checked~label.sk-toggleable__label {background-color: #d4ebff;}#sk-2cf92248-6e9f-49c6-8cd1-918b96336cbc input.sk-hidden--visually {border: 0;clip: rect(1px 1px 1px 1px);clip: rect(1px, 1px, 1px, 1px);height: 1px;margin: -1px;overflow: hidden;padding: 0;position: absolute;width: 1px;}#sk-2cf92248-6e9f-49c6-8cd1-918b96336cbc div.sk-estimator {font-family: monospace;background-color: #f0f8ff;border: 1px dotted black;border-radius: 0.25em;box-sizing: border-box;margin-bottom: 0.5em;}#sk-2cf92248-6e9f-49c6-8cd1-918b96336cbc div.sk-estimator:hover {background-color: #d4ebff;}#sk-2cf92248-6e9f-49c6-8cd1-918b96336cbc div.sk-parallel-item::after {content: \"\";width: 100%;border-bottom: 1px solid gray;flex-grow: 1;}#sk-2cf92248-6e9f-49c6-8cd1-918b96336cbc div.sk-label:hover label.sk-toggleable__label {background-color: #d4ebff;}#sk-2cf92248-6e9f-49c6-8cd1-918b96336cbc div.sk-serial::before {content: \"\";position: absolute;border-left: 1px solid gray;box-sizing: border-box;top: 2em;bottom: 0;left: 50%;}#sk-2cf92248-6e9f-49c6-8cd1-918b96336cbc div.sk-serial {display: flex;flex-direction: column;align-items: center;background-color: white;padding-right: 0.2em;padding-left: 0.2em;}#sk-2cf92248-6e9f-49c6-8cd1-918b96336cbc div.sk-item {z-index: 1;}#sk-2cf92248-6e9f-49c6-8cd1-918b96336cbc div.sk-parallel {display: flex;align-items: stretch;justify-content: center;background-color: white;}#sk-2cf92248-6e9f-49c6-8cd1-918b96336cbc div.sk-parallel::before {content: \"\";position: absolute;border-left: 1px solid gray;box-sizing: border-box;top: 2em;bottom: 0;left: 50%;}#sk-2cf92248-6e9f-49c6-8cd1-918b96336cbc div.sk-parallel-item {display: flex;flex-direction: column;position: relative;background-color: white;}#sk-2cf92248-6e9f-49c6-8cd1-918b96336cbc div.sk-parallel-item:first-child::after {align-self: flex-end;width: 50%;}#sk-2cf92248-6e9f-49c6-8cd1-918b96336cbc div.sk-parallel-item:last-child::after {align-self: flex-start;width: 50%;}#sk-2cf92248-6e9f-49c6-8cd1-918b96336cbc div.sk-parallel-item:only-child::after {width: 0;}#sk-2cf92248-6e9f-49c6-8cd1-918b96336cbc div.sk-dashed-wrapped {border: 1px dashed gray;margin: 0 0.4em 0.5em 0.4em;box-sizing: border-box;padding-bottom: 0.4em;background-color: white;position: relative;}#sk-2cf92248-6e9f-49c6-8cd1-918b96336cbc div.sk-label label {font-family: monospace;font-weight: bold;background-color: white;display: inline-block;line-height: 1.2em;}#sk-2cf92248-6e9f-49c6-8cd1-918b96336cbc div.sk-label-container {position: relative;z-index: 2;text-align: center;}#sk-2cf92248-6e9f-49c6-8cd1-918b96336cbc div.sk-container {/* jupyter's `normalize.less` sets `[hidden] { display: none; }` but bootstrap.min.css set `[hidden] { display: none !important; }` so we also need the `!important` here to be able to override the default hidden behavior on the sphinx rendered scikit-learn.org. See: https://github.com/scikit-learn/scikit-learn/issues/21755 */display: inline-block !important;position: relative;}#sk-2cf92248-6e9f-49c6-8cd1-918b96336cbc div.sk-text-repr-fallback {display: none;}</style><div id=\"sk-2cf92248-6e9f-49c6-8cd1-918b96336cbc\" class=\"sk-top-container\"><div class=\"sk-text-repr-fallback\"><pre>GridSearchCV(cv=10,\n",
       "             estimator=Pipeline(steps=[(&#x27;tfidf&#x27;, TfidfVectorizer()),\n",
       "                                       (&#x27;norm&#x27;, Normalizer(norm=&#x27;l1&#x27;)),\n",
       "                                       (&#x27;model&#x27;, MultinomialNB())]),\n",
       "             param_grid={&#x27;model__alpha&#x27;: [0.01, 0.1, 1]},\n",
       "             scoring=make_scorer(f1_score, average=macro))</pre><b>Please rerun this cell to show the HTML repr or trust the notebook.</b></div><div class=\"sk-container\" hidden><div class=\"sk-item sk-dashed-wrapped\"><div class=\"sk-label-container\"><div class=\"sk-label sk-toggleable\"><input class=\"sk-toggleable__control sk-hidden--visually\" id=\"d0d05166-50ab-4f82-9d65-bf77205118c5\" type=\"checkbox\" ><label for=\"d0d05166-50ab-4f82-9d65-bf77205118c5\" class=\"sk-toggleable__label sk-toggleable__label-arrow\">GridSearchCV</label><div class=\"sk-toggleable__content\"><pre>GridSearchCV(cv=10,\n",
       "             estimator=Pipeline(steps=[(&#x27;tfidf&#x27;, TfidfVectorizer()),\n",
       "                                       (&#x27;norm&#x27;, Normalizer(norm=&#x27;l1&#x27;)),\n",
       "                                       (&#x27;model&#x27;, MultinomialNB())]),\n",
       "             param_grid={&#x27;model__alpha&#x27;: [0.01, 0.1, 1]},\n",
       "             scoring=make_scorer(f1_score, average=macro))</pre></div></div></div><div class=\"sk-parallel\"><div class=\"sk-parallel-item\"><div class=\"sk-item\"><div class=\"sk-serial\"><div class=\"sk-item\"><div class=\"sk-serial\"><div class=\"sk-item\"><div class=\"sk-estimator sk-toggleable\"><input class=\"sk-toggleable__control sk-hidden--visually\" id=\"5c8856df-db5e-4e27-9def-27da5a8d96ca\" type=\"checkbox\" ><label for=\"5c8856df-db5e-4e27-9def-27da5a8d96ca\" class=\"sk-toggleable__label sk-toggleable__label-arrow\">TfidfVectorizer</label><div class=\"sk-toggleable__content\"><pre>TfidfVectorizer()</pre></div></div></div><div class=\"sk-item\"><div class=\"sk-estimator sk-toggleable\"><input class=\"sk-toggleable__control sk-hidden--visually\" id=\"d6b8f773-5108-4267-8a1c-e59bff732c86\" type=\"checkbox\" ><label for=\"d6b8f773-5108-4267-8a1c-e59bff732c86\" class=\"sk-toggleable__label sk-toggleable__label-arrow\">Normalizer</label><div class=\"sk-toggleable__content\"><pre>Normalizer(norm=&#x27;l1&#x27;)</pre></div></div></div><div class=\"sk-item\"><div class=\"sk-estimator sk-toggleable\"><input class=\"sk-toggleable__control sk-hidden--visually\" id=\"e07a3df8-971d-425f-b849-b66c6afb6a78\" type=\"checkbox\" ><label for=\"e07a3df8-971d-425f-b849-b66c6afb6a78\" class=\"sk-toggleable__label sk-toggleable__label-arrow\">MultinomialNB</label><div class=\"sk-toggleable__content\"><pre>MultinomialNB()</pre></div></div></div></div></div></div></div></div></div></div></div></div>"
      ],
      "text/plain": [
       "GridSearchCV(cv=10,\n",
       "             estimator=Pipeline(steps=[('tfidf', TfidfVectorizer()),\n",
       "                                       ('norm', Normalizer(norm='l1')),\n",
       "                                       ('model', MultinomialNB())]),\n",
       "             param_grid={'model__alpha': [0.01, 0.1, 1]},\n",
       "             scoring=make_scorer(f1_score, average=macro))"
      ]
     },
     "execution_count": 12,
     "metadata": {},
     "output_type": "execute_result"
    },
    {
     "name": "stdout",
     "output_type": "stream",
     "text": [
      "Best score is: 0.433\n",
      "Best estimator: Pipeline(steps=[('tfidf', TfidfVectorizer()), ('norm', Normalizer(norm='l1')),\n",
      "                ('model', MultinomialNB(alpha=0.01))])\n"
     ]
    },
    {
     "data": {
      "text/html": [
       "<style>#sk-ab2badc3-8ccb-4518-b0ad-ff19a24f55bd {color: black;background-color: white;}#sk-ab2badc3-8ccb-4518-b0ad-ff19a24f55bd pre{padding: 0;}#sk-ab2badc3-8ccb-4518-b0ad-ff19a24f55bd div.sk-toggleable {background-color: white;}#sk-ab2badc3-8ccb-4518-b0ad-ff19a24f55bd label.sk-toggleable__label {cursor: pointer;display: block;width: 100%;margin-bottom: 0;padding: 0.3em;box-sizing: border-box;text-align: center;}#sk-ab2badc3-8ccb-4518-b0ad-ff19a24f55bd label.sk-toggleable__label-arrow:before {content: \"▸\";float: left;margin-right: 0.25em;color: #696969;}#sk-ab2badc3-8ccb-4518-b0ad-ff19a24f55bd label.sk-toggleable__label-arrow:hover:before {color: black;}#sk-ab2badc3-8ccb-4518-b0ad-ff19a24f55bd div.sk-estimator:hover label.sk-toggleable__label-arrow:before {color: black;}#sk-ab2badc3-8ccb-4518-b0ad-ff19a24f55bd div.sk-toggleable__content {max-height: 0;max-width: 0;overflow: hidden;text-align: left;background-color: #f0f8ff;}#sk-ab2badc3-8ccb-4518-b0ad-ff19a24f55bd div.sk-toggleable__content pre {margin: 0.2em;color: black;border-radius: 0.25em;background-color: #f0f8ff;}#sk-ab2badc3-8ccb-4518-b0ad-ff19a24f55bd input.sk-toggleable__control:checked~div.sk-toggleable__content {max-height: 200px;max-width: 100%;overflow: auto;}#sk-ab2badc3-8ccb-4518-b0ad-ff19a24f55bd input.sk-toggleable__control:checked~label.sk-toggleable__label-arrow:before {content: \"▾\";}#sk-ab2badc3-8ccb-4518-b0ad-ff19a24f55bd div.sk-estimator input.sk-toggleable__control:checked~label.sk-toggleable__label {background-color: #d4ebff;}#sk-ab2badc3-8ccb-4518-b0ad-ff19a24f55bd div.sk-label input.sk-toggleable__control:checked~label.sk-toggleable__label {background-color: #d4ebff;}#sk-ab2badc3-8ccb-4518-b0ad-ff19a24f55bd input.sk-hidden--visually {border: 0;clip: rect(1px 1px 1px 1px);clip: rect(1px, 1px, 1px, 1px);height: 1px;margin: -1px;overflow: hidden;padding: 0;position: absolute;width: 1px;}#sk-ab2badc3-8ccb-4518-b0ad-ff19a24f55bd div.sk-estimator {font-family: monospace;background-color: #f0f8ff;border: 1px dotted black;border-radius: 0.25em;box-sizing: border-box;margin-bottom: 0.5em;}#sk-ab2badc3-8ccb-4518-b0ad-ff19a24f55bd div.sk-estimator:hover {background-color: #d4ebff;}#sk-ab2badc3-8ccb-4518-b0ad-ff19a24f55bd div.sk-parallel-item::after {content: \"\";width: 100%;border-bottom: 1px solid gray;flex-grow: 1;}#sk-ab2badc3-8ccb-4518-b0ad-ff19a24f55bd div.sk-label:hover label.sk-toggleable__label {background-color: #d4ebff;}#sk-ab2badc3-8ccb-4518-b0ad-ff19a24f55bd div.sk-serial::before {content: \"\";position: absolute;border-left: 1px solid gray;box-sizing: border-box;top: 2em;bottom: 0;left: 50%;}#sk-ab2badc3-8ccb-4518-b0ad-ff19a24f55bd div.sk-serial {display: flex;flex-direction: column;align-items: center;background-color: white;padding-right: 0.2em;padding-left: 0.2em;}#sk-ab2badc3-8ccb-4518-b0ad-ff19a24f55bd div.sk-item {z-index: 1;}#sk-ab2badc3-8ccb-4518-b0ad-ff19a24f55bd div.sk-parallel {display: flex;align-items: stretch;justify-content: center;background-color: white;}#sk-ab2badc3-8ccb-4518-b0ad-ff19a24f55bd div.sk-parallel::before {content: \"\";position: absolute;border-left: 1px solid gray;box-sizing: border-box;top: 2em;bottom: 0;left: 50%;}#sk-ab2badc3-8ccb-4518-b0ad-ff19a24f55bd div.sk-parallel-item {display: flex;flex-direction: column;position: relative;background-color: white;}#sk-ab2badc3-8ccb-4518-b0ad-ff19a24f55bd div.sk-parallel-item:first-child::after {align-self: flex-end;width: 50%;}#sk-ab2badc3-8ccb-4518-b0ad-ff19a24f55bd div.sk-parallel-item:last-child::after {align-self: flex-start;width: 50%;}#sk-ab2badc3-8ccb-4518-b0ad-ff19a24f55bd div.sk-parallel-item:only-child::after {width: 0;}#sk-ab2badc3-8ccb-4518-b0ad-ff19a24f55bd div.sk-dashed-wrapped {border: 1px dashed gray;margin: 0 0.4em 0.5em 0.4em;box-sizing: border-box;padding-bottom: 0.4em;background-color: white;position: relative;}#sk-ab2badc3-8ccb-4518-b0ad-ff19a24f55bd div.sk-label label {font-family: monospace;font-weight: bold;background-color: white;display: inline-block;line-height: 1.2em;}#sk-ab2badc3-8ccb-4518-b0ad-ff19a24f55bd div.sk-label-container {position: relative;z-index: 2;text-align: center;}#sk-ab2badc3-8ccb-4518-b0ad-ff19a24f55bd div.sk-container {/* jupyter's `normalize.less` sets `[hidden] { display: none; }` but bootstrap.min.css set `[hidden] { display: none !important; }` so we also need the `!important` here to be able to override the default hidden behavior on the sphinx rendered scikit-learn.org. See: https://github.com/scikit-learn/scikit-learn/issues/21755 */display: inline-block !important;position: relative;}#sk-ab2badc3-8ccb-4518-b0ad-ff19a24f55bd div.sk-text-repr-fallback {display: none;}</style><div id=\"sk-ab2badc3-8ccb-4518-b0ad-ff19a24f55bd\" class=\"sk-top-container\"><div class=\"sk-text-repr-fallback\"><pre>GridSearchCV(cv=10,\n",
       "             estimator=Pipeline(steps=[(&#x27;tfidf&#x27;, TfidfVectorizer()),\n",
       "                                       (&#x27;norm&#x27;, Normalizer(norm=&#x27;l1&#x27;)),\n",
       "                                       (&#x27;model&#x27;, SGDClassifier())]),\n",
       "             param_grid={&#x27;model__alpha&#x27;: [0.001, 0.0001],\n",
       "                         &#x27;model__penalty&#x27;: [&#x27;l1&#x27;, &#x27;l2&#x27;]},\n",
       "             scoring=make_scorer(f1_score, average=macro))</pre><b>Please rerun this cell to show the HTML repr or trust the notebook.</b></div><div class=\"sk-container\" hidden><div class=\"sk-item sk-dashed-wrapped\"><div class=\"sk-label-container\"><div class=\"sk-label sk-toggleable\"><input class=\"sk-toggleable__control sk-hidden--visually\" id=\"2d415f10-50cb-478c-8660-3ad293635821\" type=\"checkbox\" ><label for=\"2d415f10-50cb-478c-8660-3ad293635821\" class=\"sk-toggleable__label sk-toggleable__label-arrow\">GridSearchCV</label><div class=\"sk-toggleable__content\"><pre>GridSearchCV(cv=10,\n",
       "             estimator=Pipeline(steps=[(&#x27;tfidf&#x27;, TfidfVectorizer()),\n",
       "                                       (&#x27;norm&#x27;, Normalizer(norm=&#x27;l1&#x27;)),\n",
       "                                       (&#x27;model&#x27;, SGDClassifier())]),\n",
       "             param_grid={&#x27;model__alpha&#x27;: [0.001, 0.0001],\n",
       "                         &#x27;model__penalty&#x27;: [&#x27;l1&#x27;, &#x27;l2&#x27;]},\n",
       "             scoring=make_scorer(f1_score, average=macro))</pre></div></div></div><div class=\"sk-parallel\"><div class=\"sk-parallel-item\"><div class=\"sk-item\"><div class=\"sk-serial\"><div class=\"sk-item\"><div class=\"sk-serial\"><div class=\"sk-item\"><div class=\"sk-estimator sk-toggleable\"><input class=\"sk-toggleable__control sk-hidden--visually\" id=\"8944bdc4-c7d5-465d-93e9-14621ed8d36c\" type=\"checkbox\" ><label for=\"8944bdc4-c7d5-465d-93e9-14621ed8d36c\" class=\"sk-toggleable__label sk-toggleable__label-arrow\">TfidfVectorizer</label><div class=\"sk-toggleable__content\"><pre>TfidfVectorizer()</pre></div></div></div><div class=\"sk-item\"><div class=\"sk-estimator sk-toggleable\"><input class=\"sk-toggleable__control sk-hidden--visually\" id=\"97163849-22b9-4e14-a3e2-91d80b628e0e\" type=\"checkbox\" ><label for=\"97163849-22b9-4e14-a3e2-91d80b628e0e\" class=\"sk-toggleable__label sk-toggleable__label-arrow\">Normalizer</label><div class=\"sk-toggleable__content\"><pre>Normalizer(norm=&#x27;l1&#x27;)</pre></div></div></div><div class=\"sk-item\"><div class=\"sk-estimator sk-toggleable\"><input class=\"sk-toggleable__control sk-hidden--visually\" id=\"07bd482e-57a7-442a-b1b4-1976c7425922\" type=\"checkbox\" ><label for=\"07bd482e-57a7-442a-b1b4-1976c7425922\" class=\"sk-toggleable__label sk-toggleable__label-arrow\">SGDClassifier</label><div class=\"sk-toggleable__content\"><pre>SGDClassifier()</pre></div></div></div></div></div></div></div></div></div></div></div></div>"
      ],
      "text/plain": [
       "GridSearchCV(cv=10,\n",
       "             estimator=Pipeline(steps=[('tfidf', TfidfVectorizer()),\n",
       "                                       ('norm', Normalizer(norm='l1')),\n",
       "                                       ('model', SGDClassifier())]),\n",
       "             param_grid={'model__alpha': [0.001, 0.0001],\n",
       "                         'model__penalty': ['l1', 'l2']},\n",
       "             scoring=make_scorer(f1_score, average=macro))"
      ]
     },
     "execution_count": 12,
     "metadata": {},
     "output_type": "execute_result"
    },
    {
     "name": "stdout",
     "output_type": "stream",
     "text": [
      "Best score is: 0.433\n",
      "Best estimator: Pipeline(steps=[('tfidf', TfidfVectorizer()), ('norm', Normalizer(norm='l1')),\n",
      "                ('model', SGDClassifier(alpha=0.001, penalty='l1'))])\n"
     ]
    },
    {
     "data": {
      "text/html": [
       "<style>#sk-4e64b153-7071-49ad-9563-5cc99b5f37bc {color: black;background-color: white;}#sk-4e64b153-7071-49ad-9563-5cc99b5f37bc pre{padding: 0;}#sk-4e64b153-7071-49ad-9563-5cc99b5f37bc div.sk-toggleable {background-color: white;}#sk-4e64b153-7071-49ad-9563-5cc99b5f37bc label.sk-toggleable__label {cursor: pointer;display: block;width: 100%;margin-bottom: 0;padding: 0.3em;box-sizing: border-box;text-align: center;}#sk-4e64b153-7071-49ad-9563-5cc99b5f37bc label.sk-toggleable__label-arrow:before {content: \"▸\";float: left;margin-right: 0.25em;color: #696969;}#sk-4e64b153-7071-49ad-9563-5cc99b5f37bc label.sk-toggleable__label-arrow:hover:before {color: black;}#sk-4e64b153-7071-49ad-9563-5cc99b5f37bc div.sk-estimator:hover label.sk-toggleable__label-arrow:before {color: black;}#sk-4e64b153-7071-49ad-9563-5cc99b5f37bc div.sk-toggleable__content {max-height: 0;max-width: 0;overflow: hidden;text-align: left;background-color: #f0f8ff;}#sk-4e64b153-7071-49ad-9563-5cc99b5f37bc div.sk-toggleable__content pre {margin: 0.2em;color: black;border-radius: 0.25em;background-color: #f0f8ff;}#sk-4e64b153-7071-49ad-9563-5cc99b5f37bc input.sk-toggleable__control:checked~div.sk-toggleable__content {max-height: 200px;max-width: 100%;overflow: auto;}#sk-4e64b153-7071-49ad-9563-5cc99b5f37bc input.sk-toggleable__control:checked~label.sk-toggleable__label-arrow:before {content: \"▾\";}#sk-4e64b153-7071-49ad-9563-5cc99b5f37bc div.sk-estimator input.sk-toggleable__control:checked~label.sk-toggleable__label {background-color: #d4ebff;}#sk-4e64b153-7071-49ad-9563-5cc99b5f37bc div.sk-label input.sk-toggleable__control:checked~label.sk-toggleable__label {background-color: #d4ebff;}#sk-4e64b153-7071-49ad-9563-5cc99b5f37bc input.sk-hidden--visually {border: 0;clip: rect(1px 1px 1px 1px);clip: rect(1px, 1px, 1px, 1px);height: 1px;margin: -1px;overflow: hidden;padding: 0;position: absolute;width: 1px;}#sk-4e64b153-7071-49ad-9563-5cc99b5f37bc div.sk-estimator {font-family: monospace;background-color: #f0f8ff;border: 1px dotted black;border-radius: 0.25em;box-sizing: border-box;margin-bottom: 0.5em;}#sk-4e64b153-7071-49ad-9563-5cc99b5f37bc div.sk-estimator:hover {background-color: #d4ebff;}#sk-4e64b153-7071-49ad-9563-5cc99b5f37bc div.sk-parallel-item::after {content: \"\";width: 100%;border-bottom: 1px solid gray;flex-grow: 1;}#sk-4e64b153-7071-49ad-9563-5cc99b5f37bc div.sk-label:hover label.sk-toggleable__label {background-color: #d4ebff;}#sk-4e64b153-7071-49ad-9563-5cc99b5f37bc div.sk-serial::before {content: \"\";position: absolute;border-left: 1px solid gray;box-sizing: border-box;top: 2em;bottom: 0;left: 50%;}#sk-4e64b153-7071-49ad-9563-5cc99b5f37bc div.sk-serial {display: flex;flex-direction: column;align-items: center;background-color: white;padding-right: 0.2em;padding-left: 0.2em;}#sk-4e64b153-7071-49ad-9563-5cc99b5f37bc div.sk-item {z-index: 1;}#sk-4e64b153-7071-49ad-9563-5cc99b5f37bc div.sk-parallel {display: flex;align-items: stretch;justify-content: center;background-color: white;}#sk-4e64b153-7071-49ad-9563-5cc99b5f37bc div.sk-parallel::before {content: \"\";position: absolute;border-left: 1px solid gray;box-sizing: border-box;top: 2em;bottom: 0;left: 50%;}#sk-4e64b153-7071-49ad-9563-5cc99b5f37bc div.sk-parallel-item {display: flex;flex-direction: column;position: relative;background-color: white;}#sk-4e64b153-7071-49ad-9563-5cc99b5f37bc div.sk-parallel-item:first-child::after {align-self: flex-end;width: 50%;}#sk-4e64b153-7071-49ad-9563-5cc99b5f37bc div.sk-parallel-item:last-child::after {align-self: flex-start;width: 50%;}#sk-4e64b153-7071-49ad-9563-5cc99b5f37bc div.sk-parallel-item:only-child::after {width: 0;}#sk-4e64b153-7071-49ad-9563-5cc99b5f37bc div.sk-dashed-wrapped {border: 1px dashed gray;margin: 0 0.4em 0.5em 0.4em;box-sizing: border-box;padding-bottom: 0.4em;background-color: white;position: relative;}#sk-4e64b153-7071-49ad-9563-5cc99b5f37bc div.sk-label label {font-family: monospace;font-weight: bold;background-color: white;display: inline-block;line-height: 1.2em;}#sk-4e64b153-7071-49ad-9563-5cc99b5f37bc div.sk-label-container {position: relative;z-index: 2;text-align: center;}#sk-4e64b153-7071-49ad-9563-5cc99b5f37bc div.sk-container {/* jupyter's `normalize.less` sets `[hidden] { display: none; }` but bootstrap.min.css set `[hidden] { display: none !important; }` so we also need the `!important` here to be able to override the default hidden behavior on the sphinx rendered scikit-learn.org. See: https://github.com/scikit-learn/scikit-learn/issues/21755 */display: inline-block !important;position: relative;}#sk-4e64b153-7071-49ad-9563-5cc99b5f37bc div.sk-text-repr-fallback {display: none;}</style><div id=\"sk-4e64b153-7071-49ad-9563-5cc99b5f37bc\" class=\"sk-top-container\"><div class=\"sk-text-repr-fallback\"><pre>GridSearchCV(cv=10,\n",
       "             estimator=Pipeline(steps=[(&#x27;tfidf&#x27;, TfidfVectorizer()),\n",
       "                                       (&#x27;norm&#x27;, Normalizer(norm=&#x27;l1&#x27;)),\n",
       "                                       (&#x27;model&#x27;, KNeighborsClassifier())]),\n",
       "             param_grid={&#x27;model__n_neighbors&#x27;: [3, 5, 7]},\n",
       "             scoring=make_scorer(f1_score, average=macro))</pre><b>Please rerun this cell to show the HTML repr or trust the notebook.</b></div><div class=\"sk-container\" hidden><div class=\"sk-item sk-dashed-wrapped\"><div class=\"sk-label-container\"><div class=\"sk-label sk-toggleable\"><input class=\"sk-toggleable__control sk-hidden--visually\" id=\"96bb2ce7-4e5d-49e0-a9b1-2fe6e5ca5f51\" type=\"checkbox\" ><label for=\"96bb2ce7-4e5d-49e0-a9b1-2fe6e5ca5f51\" class=\"sk-toggleable__label sk-toggleable__label-arrow\">GridSearchCV</label><div class=\"sk-toggleable__content\"><pre>GridSearchCV(cv=10,\n",
       "             estimator=Pipeline(steps=[(&#x27;tfidf&#x27;, TfidfVectorizer()),\n",
       "                                       (&#x27;norm&#x27;, Normalizer(norm=&#x27;l1&#x27;)),\n",
       "                                       (&#x27;model&#x27;, KNeighborsClassifier())]),\n",
       "             param_grid={&#x27;model__n_neighbors&#x27;: [3, 5, 7]},\n",
       "             scoring=make_scorer(f1_score, average=macro))</pre></div></div></div><div class=\"sk-parallel\"><div class=\"sk-parallel-item\"><div class=\"sk-item\"><div class=\"sk-serial\"><div class=\"sk-item\"><div class=\"sk-serial\"><div class=\"sk-item\"><div class=\"sk-estimator sk-toggleable\"><input class=\"sk-toggleable__control sk-hidden--visually\" id=\"1428c818-9b32-47b3-ba6b-dda34b979b94\" type=\"checkbox\" ><label for=\"1428c818-9b32-47b3-ba6b-dda34b979b94\" class=\"sk-toggleable__label sk-toggleable__label-arrow\">TfidfVectorizer</label><div class=\"sk-toggleable__content\"><pre>TfidfVectorizer()</pre></div></div></div><div class=\"sk-item\"><div class=\"sk-estimator sk-toggleable\"><input class=\"sk-toggleable__control sk-hidden--visually\" id=\"ac4c24ed-e5b8-4f8c-9d5b-67e963c38cee\" type=\"checkbox\" ><label for=\"ac4c24ed-e5b8-4f8c-9d5b-67e963c38cee\" class=\"sk-toggleable__label sk-toggleable__label-arrow\">Normalizer</label><div class=\"sk-toggleable__content\"><pre>Normalizer(norm=&#x27;l1&#x27;)</pre></div></div></div><div class=\"sk-item\"><div class=\"sk-estimator sk-toggleable\"><input class=\"sk-toggleable__control sk-hidden--visually\" id=\"5b60811e-8ee3-4bd1-ab3d-c65774e7f163\" type=\"checkbox\" ><label for=\"5b60811e-8ee3-4bd1-ab3d-c65774e7f163\" class=\"sk-toggleable__label sk-toggleable__label-arrow\">KNeighborsClassifier</label><div class=\"sk-toggleable__content\"><pre>KNeighborsClassifier()</pre></div></div></div></div></div></div></div></div></div></div></div></div>"
      ],
      "text/plain": [
       "GridSearchCV(cv=10,\n",
       "             estimator=Pipeline(steps=[('tfidf', TfidfVectorizer()),\n",
       "                                       ('norm', Normalizer(norm='l1')),\n",
       "                                       ('model', KNeighborsClassifier())]),\n",
       "             param_grid={'model__n_neighbors': [3, 5, 7]},\n",
       "             scoring=make_scorer(f1_score, average=macro))"
      ]
     },
     "execution_count": 12,
     "metadata": {},
     "output_type": "execute_result"
    },
    {
     "name": "stdout",
     "output_type": "stream",
     "text": [
      "Best score is: 0.455\n",
      "Best estimator: Pipeline(steps=[('tfidf', TfidfVectorizer()), ('norm', Normalizer(norm='l1')),\n",
      "                ('model', KNeighborsClassifier(n_neighbors=3))])\n"
     ]
    }
   ],
   "source": [
    "for name, model in models:\n",
    "    pipeline = Pipeline([\n",
    "        ('tfidf', TfidfVectorizer()),\n",
    "        ('norm', preprocessing.Normalizer(norm='l1')),\n",
    "        ('model', model)\n",
    "    ])\n",
    "\n",
    "    parameters = set_parameters()\n",
    "    \n",
    "    set_config(display='diagram') # This is for displaying the gridsearch as a diagram\n",
    "\n",
    "    grid = GridSearchCV(pipeline, parameters, scoring=make_scorer(f1_score, average='macro'), cv=10)\n",
    "    grid.fit(X_train, y_train)\n",
    "\n",
    "    print(\"Best score is:\", round(grid.best_score_, 3))\n",
    "    print(\"Best estimator:\", grid.best_estimator_)\n",
    "    \n",
    "\n"
   ]
  },
  {
   "cell_type": "markdown",
   "metadata": {
    "id": "LsJ4zQpItzDR"
   },
   "source": [
    "# Not good results at all!\n",
    "\n",
    "I figured out I should also check some other parameters for the `TfidfVectorizer()` and the `preprocessing.Normalizer()`.\n",
    "\n",
    "**So now I will try to change the `set_parameters()` function and the pipeline accordingly**\n",
    "\n",
    "I will try multiple combinations - it`s probabaly gonna take some time.\n",
    "\n",
    "---\n",
    "\n",
    "\n"
   ]
  },
  {
   "cell_type": "code",
   "execution_count": 13,
   "metadata": {
    "id": "bDII1A7L1om0"
   },
   "outputs": [],
   "source": [
    "def set_parameters():\n",
    "    if name == 'LinearSVC':\n",
    "        parameters = {'tfidf__ngram_range': [(1, 1), (1, 2)], 'tfidf__min_df' : [2, 4, 5], 'tfidf__max_df': [0.8, 0.9],\n",
    "                      'model__C': [0.1, 1, 10], 'model__penalty': ['l1', 'l2']}\n",
    "\n",
    "    elif name == 'Perceptron':\n",
    "        parameters = {'tfidf__ngram_range': [(1, 1), (1, 2)], 'tfidf__min_df' : [2, 4, 5], 'tfidf__max_df': [0.8, 0.9], 'tfidf__sublinear_tf':[True, False],\n",
    "                    'model__alpha': [0.000001, 0.00001, 0.0001], 'model__penalty': ['l2', 'l1']}\n",
    "\n",
    "    elif name == 'DecisionTreeClassifier':\n",
    "        parameters = {'tfidf__ngram_range': [(1, 1), (1, 2)], 'tfidf__min_df' : [2, 4, 5], 'tfidf__max_df': [0.8, 0.9],\n",
    "                      'model__max_depth': [5, 10, 15], 'model__min_samples_leaf': [5, 10, 15]}\n",
    "\n",
    "    elif name == 'MultinomialNB':\n",
    "        parameters = {'tfidf__ngram_range': [(1, 1), (1, 2)], 'tfidf__min_df' : [2, 4, 5], 'tfidf__max_df': [0.8, 0.9], \n",
    "                      'model__alpha': [0.01, 0.1, 1]}\n",
    "\n",
    "    elif name == 'SGDClassifier':\n",
    "        parameters = {'tfidf__ngram_range': [(1, 1), (1, 2)], 'tfidf__min_df' : [2, 4, 5], 'tfidf__max_df': [0.8, 0.9],\n",
    "                      'model__alpha': [1e-3, 1e-4], 'model__penalty': ['l1', 'l2']}\n",
    "\n",
    "    elif name == 'KNeighborsClassifier':\n",
    "        parameters = {'tfidf__ngram_range': [(1, 1), (1, 2)], 'tfidf__min_df' : [2, 4, 5], 'tfidf__max_df': [0.8, 0.9],\n",
    "                      'model__n_neighbors': [3, 5, 7], 'model__metric': ['euclidean', 'manhattan', 'chebyshev'], 'model__leaf_size': [10, 20, 30]}\n",
    "\n",
    "    return parameters\n"
   ]
  },
  {
   "cell_type": "code",
   "execution_count": 16,
   "metadata": {
    "colab": {
     "base_uri": "https://localhost:8080/",
     "height": 1000
    },
    "id": "slqMfAlM4Vzs",
    "outputId": "7fce516e-c4a7-4acd-a269-4d28e4672a3e"
   },
   "outputs": [
    {
     "data": {
      "text/html": [
       "<style>#sk-9af051ca-2000-41da-9a6c-0dc75de1b6d2 {color: black;background-color: white;}#sk-9af051ca-2000-41da-9a6c-0dc75de1b6d2 pre{padding: 0;}#sk-9af051ca-2000-41da-9a6c-0dc75de1b6d2 div.sk-toggleable {background-color: white;}#sk-9af051ca-2000-41da-9a6c-0dc75de1b6d2 label.sk-toggleable__label {cursor: pointer;display: block;width: 100%;margin-bottom: 0;padding: 0.3em;box-sizing: border-box;text-align: center;}#sk-9af051ca-2000-41da-9a6c-0dc75de1b6d2 label.sk-toggleable__label-arrow:before {content: \"▸\";float: left;margin-right: 0.25em;color: #696969;}#sk-9af051ca-2000-41da-9a6c-0dc75de1b6d2 label.sk-toggleable__label-arrow:hover:before {color: black;}#sk-9af051ca-2000-41da-9a6c-0dc75de1b6d2 div.sk-estimator:hover label.sk-toggleable__label-arrow:before {color: black;}#sk-9af051ca-2000-41da-9a6c-0dc75de1b6d2 div.sk-toggleable__content {max-height: 0;max-width: 0;overflow: hidden;text-align: left;background-color: #f0f8ff;}#sk-9af051ca-2000-41da-9a6c-0dc75de1b6d2 div.sk-toggleable__content pre {margin: 0.2em;color: black;border-radius: 0.25em;background-color: #f0f8ff;}#sk-9af051ca-2000-41da-9a6c-0dc75de1b6d2 input.sk-toggleable__control:checked~div.sk-toggleable__content {max-height: 200px;max-width: 100%;overflow: auto;}#sk-9af051ca-2000-41da-9a6c-0dc75de1b6d2 input.sk-toggleable__control:checked~label.sk-toggleable__label-arrow:before {content: \"▾\";}#sk-9af051ca-2000-41da-9a6c-0dc75de1b6d2 div.sk-estimator input.sk-toggleable__control:checked~label.sk-toggleable__label {background-color: #d4ebff;}#sk-9af051ca-2000-41da-9a6c-0dc75de1b6d2 div.sk-label input.sk-toggleable__control:checked~label.sk-toggleable__label {background-color: #d4ebff;}#sk-9af051ca-2000-41da-9a6c-0dc75de1b6d2 input.sk-hidden--visually {border: 0;clip: rect(1px 1px 1px 1px);clip: rect(1px, 1px, 1px, 1px);height: 1px;margin: -1px;overflow: hidden;padding: 0;position: absolute;width: 1px;}#sk-9af051ca-2000-41da-9a6c-0dc75de1b6d2 div.sk-estimator {font-family: monospace;background-color: #f0f8ff;border: 1px dotted black;border-radius: 0.25em;box-sizing: border-box;margin-bottom: 0.5em;}#sk-9af051ca-2000-41da-9a6c-0dc75de1b6d2 div.sk-estimator:hover {background-color: #d4ebff;}#sk-9af051ca-2000-41da-9a6c-0dc75de1b6d2 div.sk-parallel-item::after {content: \"\";width: 100%;border-bottom: 1px solid gray;flex-grow: 1;}#sk-9af051ca-2000-41da-9a6c-0dc75de1b6d2 div.sk-label:hover label.sk-toggleable__label {background-color: #d4ebff;}#sk-9af051ca-2000-41da-9a6c-0dc75de1b6d2 div.sk-serial::before {content: \"\";position: absolute;border-left: 1px solid gray;box-sizing: border-box;top: 2em;bottom: 0;left: 50%;}#sk-9af051ca-2000-41da-9a6c-0dc75de1b6d2 div.sk-serial {display: flex;flex-direction: column;align-items: center;background-color: white;padding-right: 0.2em;padding-left: 0.2em;}#sk-9af051ca-2000-41da-9a6c-0dc75de1b6d2 div.sk-item {z-index: 1;}#sk-9af051ca-2000-41da-9a6c-0dc75de1b6d2 div.sk-parallel {display: flex;align-items: stretch;justify-content: center;background-color: white;}#sk-9af051ca-2000-41da-9a6c-0dc75de1b6d2 div.sk-parallel::before {content: \"\";position: absolute;border-left: 1px solid gray;box-sizing: border-box;top: 2em;bottom: 0;left: 50%;}#sk-9af051ca-2000-41da-9a6c-0dc75de1b6d2 div.sk-parallel-item {display: flex;flex-direction: column;position: relative;background-color: white;}#sk-9af051ca-2000-41da-9a6c-0dc75de1b6d2 div.sk-parallel-item:first-child::after {align-self: flex-end;width: 50%;}#sk-9af051ca-2000-41da-9a6c-0dc75de1b6d2 div.sk-parallel-item:last-child::after {align-self: flex-start;width: 50%;}#sk-9af051ca-2000-41da-9a6c-0dc75de1b6d2 div.sk-parallel-item:only-child::after {width: 0;}#sk-9af051ca-2000-41da-9a6c-0dc75de1b6d2 div.sk-dashed-wrapped {border: 1px dashed gray;margin: 0 0.4em 0.5em 0.4em;box-sizing: border-box;padding-bottom: 0.4em;background-color: white;position: relative;}#sk-9af051ca-2000-41da-9a6c-0dc75de1b6d2 div.sk-label label {font-family: monospace;font-weight: bold;background-color: white;display: inline-block;line-height: 1.2em;}#sk-9af051ca-2000-41da-9a6c-0dc75de1b6d2 div.sk-label-container {position: relative;z-index: 2;text-align: center;}#sk-9af051ca-2000-41da-9a6c-0dc75de1b6d2 div.sk-container {/* jupyter's `normalize.less` sets `[hidden] { display: none; }` but bootstrap.min.css set `[hidden] { display: none !important; }` so we also need the `!important` here to be able to override the default hidden behavior on the sphinx rendered scikit-learn.org. See: https://github.com/scikit-learn/scikit-learn/issues/21755 */display: inline-block !important;position: relative;}#sk-9af051ca-2000-41da-9a6c-0dc75de1b6d2 div.sk-text-repr-fallback {display: none;}</style><div id=\"sk-9af051ca-2000-41da-9a6c-0dc75de1b6d2\" class=\"sk-top-container\"><div class=\"sk-text-repr-fallback\"><pre>GridSearchCV(cv=10,\n",
       "             estimator=Pipeline(steps=[(&#x27;tfidf&#x27;, TfidfVectorizer()),\n",
       "                                       (&#x27;norm&#x27;, Normalizer()),\n",
       "                                       (&#x27;model&#x27;, Perceptron())]),\n",
       "             param_grid={&#x27;model__alpha&#x27;: [1e-06, 1e-05, 0.0001],\n",
       "                         &#x27;model__penalty&#x27;: [&#x27;l2&#x27;, &#x27;l1&#x27;],\n",
       "                         &#x27;tfidf__max_df&#x27;: [0.8, 0.9],\n",
       "                         &#x27;tfidf__min_df&#x27;: [2, 4, 5],\n",
       "                         &#x27;tfidf__ngram_range&#x27;: [(1, 1), (1, 2)],\n",
       "                         &#x27;tfidf__sublinear_tf&#x27;: [True, False]},\n",
       "             scoring=make_scorer(f1_score, average=macro))</pre><b>Please rerun this cell to show the HTML repr or trust the notebook.</b></div><div class=\"sk-container\" hidden><div class=\"sk-item sk-dashed-wrapped\"><div class=\"sk-label-container\"><div class=\"sk-label sk-toggleable\"><input class=\"sk-toggleable__control sk-hidden--visually\" id=\"0aca726e-89a2-4d4f-af5e-43080a3e4531\" type=\"checkbox\" ><label for=\"0aca726e-89a2-4d4f-af5e-43080a3e4531\" class=\"sk-toggleable__label sk-toggleable__label-arrow\">GridSearchCV</label><div class=\"sk-toggleable__content\"><pre>GridSearchCV(cv=10,\n",
       "             estimator=Pipeline(steps=[(&#x27;tfidf&#x27;, TfidfVectorizer()),\n",
       "                                       (&#x27;norm&#x27;, Normalizer()),\n",
       "                                       (&#x27;model&#x27;, Perceptron())]),\n",
       "             param_grid={&#x27;model__alpha&#x27;: [1e-06, 1e-05, 0.0001],\n",
       "                         &#x27;model__penalty&#x27;: [&#x27;l2&#x27;, &#x27;l1&#x27;],\n",
       "                         &#x27;tfidf__max_df&#x27;: [0.8, 0.9],\n",
       "                         &#x27;tfidf__min_df&#x27;: [2, 4, 5],\n",
       "                         &#x27;tfidf__ngram_range&#x27;: [(1, 1), (1, 2)],\n",
       "                         &#x27;tfidf__sublinear_tf&#x27;: [True, False]},\n",
       "             scoring=make_scorer(f1_score, average=macro))</pre></div></div></div><div class=\"sk-parallel\"><div class=\"sk-parallel-item\"><div class=\"sk-item\"><div class=\"sk-serial\"><div class=\"sk-item\"><div class=\"sk-serial\"><div class=\"sk-item\"><div class=\"sk-estimator sk-toggleable\"><input class=\"sk-toggleable__control sk-hidden--visually\" id=\"ca5a9dc5-9466-40a6-944c-343133060262\" type=\"checkbox\" ><label for=\"ca5a9dc5-9466-40a6-944c-343133060262\" class=\"sk-toggleable__label sk-toggleable__label-arrow\">TfidfVectorizer</label><div class=\"sk-toggleable__content\"><pre>TfidfVectorizer()</pre></div></div></div><div class=\"sk-item\"><div class=\"sk-estimator sk-toggleable\"><input class=\"sk-toggleable__control sk-hidden--visually\" id=\"7dcda40f-f534-4034-a531-a01fe89cb922\" type=\"checkbox\" ><label for=\"7dcda40f-f534-4034-a531-a01fe89cb922\" class=\"sk-toggleable__label sk-toggleable__label-arrow\">Normalizer</label><div class=\"sk-toggleable__content\"><pre>Normalizer()</pre></div></div></div><div class=\"sk-item\"><div class=\"sk-estimator sk-toggleable\"><input class=\"sk-toggleable__control sk-hidden--visually\" id=\"efc7e3d3-9a77-443e-a1a7-ddd8c9d1dbf9\" type=\"checkbox\" ><label for=\"efc7e3d3-9a77-443e-a1a7-ddd8c9d1dbf9\" class=\"sk-toggleable__label sk-toggleable__label-arrow\">Perceptron</label><div class=\"sk-toggleable__content\"><pre>Perceptron()</pre></div></div></div></div></div></div></div></div></div></div></div></div>"
      ],
      "text/plain": [
       "GridSearchCV(cv=10,\n",
       "             estimator=Pipeline(steps=[('tfidf', TfidfVectorizer()),\n",
       "                                       ('norm', Normalizer()),\n",
       "                                       ('model', Perceptron())]),\n",
       "             param_grid={'model__alpha': [1e-06, 1e-05, 0.0001],\n",
       "                         'model__penalty': ['l2', 'l1'],\n",
       "                         'tfidf__max_df': [0.8, 0.9],\n",
       "                         'tfidf__min_df': [2, 4, 5],\n",
       "                         'tfidf__ngram_range': [(1, 1), (1, 2)],\n",
       "                         'tfidf__sublinear_tf': [True, False]},\n",
       "             scoring=make_scorer(f1_score, average=macro))"
      ]
     },
     "execution_count": 16,
     "metadata": {},
     "output_type": "execute_result"
    },
    {
     "name": "stdout",
     "output_type": "stream",
     "text": [
      "Best score is: 0.726\n",
      "Best estimator: Pipeline(steps=[('tfidf',\n",
      "                 TfidfVectorizer(max_df=0.8, min_df=2, ngram_range=(1, 2),\n",
      "                                 sublinear_tf=True)),\n",
      "                ('norm', Normalizer()),\n",
      "                ('model', Perceptron(alpha=1e-06, penalty='l1'))])\n"
     ]
    },
    {
     "data": {
      "text/html": [
       "<style>#sk-0cd12a1c-06b1-44b2-9f2c-4ebf53be5376 {color: black;background-color: white;}#sk-0cd12a1c-06b1-44b2-9f2c-4ebf53be5376 pre{padding: 0;}#sk-0cd12a1c-06b1-44b2-9f2c-4ebf53be5376 div.sk-toggleable {background-color: white;}#sk-0cd12a1c-06b1-44b2-9f2c-4ebf53be5376 label.sk-toggleable__label {cursor: pointer;display: block;width: 100%;margin-bottom: 0;padding: 0.3em;box-sizing: border-box;text-align: center;}#sk-0cd12a1c-06b1-44b2-9f2c-4ebf53be5376 label.sk-toggleable__label-arrow:before {content: \"▸\";float: left;margin-right: 0.25em;color: #696969;}#sk-0cd12a1c-06b1-44b2-9f2c-4ebf53be5376 label.sk-toggleable__label-arrow:hover:before {color: black;}#sk-0cd12a1c-06b1-44b2-9f2c-4ebf53be5376 div.sk-estimator:hover label.sk-toggleable__label-arrow:before {color: black;}#sk-0cd12a1c-06b1-44b2-9f2c-4ebf53be5376 div.sk-toggleable__content {max-height: 0;max-width: 0;overflow: hidden;text-align: left;background-color: #f0f8ff;}#sk-0cd12a1c-06b1-44b2-9f2c-4ebf53be5376 div.sk-toggleable__content pre {margin: 0.2em;color: black;border-radius: 0.25em;background-color: #f0f8ff;}#sk-0cd12a1c-06b1-44b2-9f2c-4ebf53be5376 input.sk-toggleable__control:checked~div.sk-toggleable__content {max-height: 200px;max-width: 100%;overflow: auto;}#sk-0cd12a1c-06b1-44b2-9f2c-4ebf53be5376 input.sk-toggleable__control:checked~label.sk-toggleable__label-arrow:before {content: \"▾\";}#sk-0cd12a1c-06b1-44b2-9f2c-4ebf53be5376 div.sk-estimator input.sk-toggleable__control:checked~label.sk-toggleable__label {background-color: #d4ebff;}#sk-0cd12a1c-06b1-44b2-9f2c-4ebf53be5376 div.sk-label input.sk-toggleable__control:checked~label.sk-toggleable__label {background-color: #d4ebff;}#sk-0cd12a1c-06b1-44b2-9f2c-4ebf53be5376 input.sk-hidden--visually {border: 0;clip: rect(1px 1px 1px 1px);clip: rect(1px, 1px, 1px, 1px);height: 1px;margin: -1px;overflow: hidden;padding: 0;position: absolute;width: 1px;}#sk-0cd12a1c-06b1-44b2-9f2c-4ebf53be5376 div.sk-estimator {font-family: monospace;background-color: #f0f8ff;border: 1px dotted black;border-radius: 0.25em;box-sizing: border-box;margin-bottom: 0.5em;}#sk-0cd12a1c-06b1-44b2-9f2c-4ebf53be5376 div.sk-estimator:hover {background-color: #d4ebff;}#sk-0cd12a1c-06b1-44b2-9f2c-4ebf53be5376 div.sk-parallel-item::after {content: \"\";width: 100%;border-bottom: 1px solid gray;flex-grow: 1;}#sk-0cd12a1c-06b1-44b2-9f2c-4ebf53be5376 div.sk-label:hover label.sk-toggleable__label {background-color: #d4ebff;}#sk-0cd12a1c-06b1-44b2-9f2c-4ebf53be5376 div.sk-serial::before {content: \"\";position: absolute;border-left: 1px solid gray;box-sizing: border-box;top: 2em;bottom: 0;left: 50%;}#sk-0cd12a1c-06b1-44b2-9f2c-4ebf53be5376 div.sk-serial {display: flex;flex-direction: column;align-items: center;background-color: white;padding-right: 0.2em;padding-left: 0.2em;}#sk-0cd12a1c-06b1-44b2-9f2c-4ebf53be5376 div.sk-item {z-index: 1;}#sk-0cd12a1c-06b1-44b2-9f2c-4ebf53be5376 div.sk-parallel {display: flex;align-items: stretch;justify-content: center;background-color: white;}#sk-0cd12a1c-06b1-44b2-9f2c-4ebf53be5376 div.sk-parallel::before {content: \"\";position: absolute;border-left: 1px solid gray;box-sizing: border-box;top: 2em;bottom: 0;left: 50%;}#sk-0cd12a1c-06b1-44b2-9f2c-4ebf53be5376 div.sk-parallel-item {display: flex;flex-direction: column;position: relative;background-color: white;}#sk-0cd12a1c-06b1-44b2-9f2c-4ebf53be5376 div.sk-parallel-item:first-child::after {align-self: flex-end;width: 50%;}#sk-0cd12a1c-06b1-44b2-9f2c-4ebf53be5376 div.sk-parallel-item:last-child::after {align-self: flex-start;width: 50%;}#sk-0cd12a1c-06b1-44b2-9f2c-4ebf53be5376 div.sk-parallel-item:only-child::after {width: 0;}#sk-0cd12a1c-06b1-44b2-9f2c-4ebf53be5376 div.sk-dashed-wrapped {border: 1px dashed gray;margin: 0 0.4em 0.5em 0.4em;box-sizing: border-box;padding-bottom: 0.4em;background-color: white;position: relative;}#sk-0cd12a1c-06b1-44b2-9f2c-4ebf53be5376 div.sk-label label {font-family: monospace;font-weight: bold;background-color: white;display: inline-block;line-height: 1.2em;}#sk-0cd12a1c-06b1-44b2-9f2c-4ebf53be5376 div.sk-label-container {position: relative;z-index: 2;text-align: center;}#sk-0cd12a1c-06b1-44b2-9f2c-4ebf53be5376 div.sk-container {/* jupyter's `normalize.less` sets `[hidden] { display: none; }` but bootstrap.min.css set `[hidden] { display: none !important; }` so we also need the `!important` here to be able to override the default hidden behavior on the sphinx rendered scikit-learn.org. See: https://github.com/scikit-learn/scikit-learn/issues/21755 */display: inline-block !important;position: relative;}#sk-0cd12a1c-06b1-44b2-9f2c-4ebf53be5376 div.sk-text-repr-fallback {display: none;}</style><div id=\"sk-0cd12a1c-06b1-44b2-9f2c-4ebf53be5376\" class=\"sk-top-container\"><div class=\"sk-text-repr-fallback\"><pre>GridSearchCV(cv=10,\n",
       "             estimator=Pipeline(steps=[(&#x27;tfidf&#x27;, TfidfVectorizer()),\n",
       "                                       (&#x27;norm&#x27;, Normalizer()),\n",
       "                                       (&#x27;model&#x27;, LinearSVC())]),\n",
       "             param_grid={&#x27;model__C&#x27;: [0.1, 1, 10],\n",
       "                         &#x27;model__penalty&#x27;: [&#x27;l1&#x27;, &#x27;l2&#x27;],\n",
       "                         &#x27;tfidf__max_df&#x27;: [0.8, 0.9],\n",
       "                         &#x27;tfidf__min_df&#x27;: [2, 4, 5],\n",
       "                         &#x27;tfidf__ngram_range&#x27;: [(1, 1), (1, 2)]},\n",
       "             scoring=make_scorer(f1_score, average=macro))</pre><b>Please rerun this cell to show the HTML repr or trust the notebook.</b></div><div class=\"sk-container\" hidden><div class=\"sk-item sk-dashed-wrapped\"><div class=\"sk-label-container\"><div class=\"sk-label sk-toggleable\"><input class=\"sk-toggleable__control sk-hidden--visually\" id=\"004583cf-1355-4027-90c0-40cec1410a7e\" type=\"checkbox\" ><label for=\"004583cf-1355-4027-90c0-40cec1410a7e\" class=\"sk-toggleable__label sk-toggleable__label-arrow\">GridSearchCV</label><div class=\"sk-toggleable__content\"><pre>GridSearchCV(cv=10,\n",
       "             estimator=Pipeline(steps=[(&#x27;tfidf&#x27;, TfidfVectorizer()),\n",
       "                                       (&#x27;norm&#x27;, Normalizer()),\n",
       "                                       (&#x27;model&#x27;, LinearSVC())]),\n",
       "             param_grid={&#x27;model__C&#x27;: [0.1, 1, 10],\n",
       "                         &#x27;model__penalty&#x27;: [&#x27;l1&#x27;, &#x27;l2&#x27;],\n",
       "                         &#x27;tfidf__max_df&#x27;: [0.8, 0.9],\n",
       "                         &#x27;tfidf__min_df&#x27;: [2, 4, 5],\n",
       "                         &#x27;tfidf__ngram_range&#x27;: [(1, 1), (1, 2)]},\n",
       "             scoring=make_scorer(f1_score, average=macro))</pre></div></div></div><div class=\"sk-parallel\"><div class=\"sk-parallel-item\"><div class=\"sk-item\"><div class=\"sk-serial\"><div class=\"sk-item\"><div class=\"sk-serial\"><div class=\"sk-item\"><div class=\"sk-estimator sk-toggleable\"><input class=\"sk-toggleable__control sk-hidden--visually\" id=\"fa7dddbe-0f51-4084-b55e-8c537bb01a95\" type=\"checkbox\" ><label for=\"fa7dddbe-0f51-4084-b55e-8c537bb01a95\" class=\"sk-toggleable__label sk-toggleable__label-arrow\">TfidfVectorizer</label><div class=\"sk-toggleable__content\"><pre>TfidfVectorizer()</pre></div></div></div><div class=\"sk-item\"><div class=\"sk-estimator sk-toggleable\"><input class=\"sk-toggleable__control sk-hidden--visually\" id=\"915b1d2f-f202-424b-bd6d-cc78665a4ff5\" type=\"checkbox\" ><label for=\"915b1d2f-f202-424b-bd6d-cc78665a4ff5\" class=\"sk-toggleable__label sk-toggleable__label-arrow\">Normalizer</label><div class=\"sk-toggleable__content\"><pre>Normalizer()</pre></div></div></div><div class=\"sk-item\"><div class=\"sk-estimator sk-toggleable\"><input class=\"sk-toggleable__control sk-hidden--visually\" id=\"c5d3ca4a-0a86-4c46-b16e-24ce06bf1f0b\" type=\"checkbox\" ><label for=\"c5d3ca4a-0a86-4c46-b16e-24ce06bf1f0b\" class=\"sk-toggleable__label sk-toggleable__label-arrow\">LinearSVC</label><div class=\"sk-toggleable__content\"><pre>LinearSVC()</pre></div></div></div></div></div></div></div></div></div></div></div></div>"
      ],
      "text/plain": [
       "GridSearchCV(cv=10,\n",
       "             estimator=Pipeline(steps=[('tfidf', TfidfVectorizer()),\n",
       "                                       ('norm', Normalizer()),\n",
       "                                       ('model', LinearSVC())]),\n",
       "             param_grid={'model__C': [0.1, 1, 10],\n",
       "                         'model__penalty': ['l1', 'l2'],\n",
       "                         'tfidf__max_df': [0.8, 0.9],\n",
       "                         'tfidf__min_df': [2, 4, 5],\n",
       "                         'tfidf__ngram_range': [(1, 1), (1, 2)]},\n",
       "             scoring=make_scorer(f1_score, average=macro))"
      ]
     },
     "execution_count": 16,
     "metadata": {},
     "output_type": "execute_result"
    },
    {
     "name": "stdout",
     "output_type": "stream",
     "text": [
      "Best score is: 0.687\n",
      "Best estimator: Pipeline(steps=[('tfidf',\n",
      "                 TfidfVectorizer(max_df=0.9, min_df=5, ngram_range=(1, 2))),\n",
      "                ('norm', Normalizer()), ('model', LinearSVC(C=10))])\n"
     ]
    },
    {
     "data": {
      "text/html": [
       "<style>#sk-97d837a1-3098-4d22-a972-e6a57b65a6ff {color: black;background-color: white;}#sk-97d837a1-3098-4d22-a972-e6a57b65a6ff pre{padding: 0;}#sk-97d837a1-3098-4d22-a972-e6a57b65a6ff div.sk-toggleable {background-color: white;}#sk-97d837a1-3098-4d22-a972-e6a57b65a6ff label.sk-toggleable__label {cursor: pointer;display: block;width: 100%;margin-bottom: 0;padding: 0.3em;box-sizing: border-box;text-align: center;}#sk-97d837a1-3098-4d22-a972-e6a57b65a6ff label.sk-toggleable__label-arrow:before {content: \"▸\";float: left;margin-right: 0.25em;color: #696969;}#sk-97d837a1-3098-4d22-a972-e6a57b65a6ff label.sk-toggleable__label-arrow:hover:before {color: black;}#sk-97d837a1-3098-4d22-a972-e6a57b65a6ff div.sk-estimator:hover label.sk-toggleable__label-arrow:before {color: black;}#sk-97d837a1-3098-4d22-a972-e6a57b65a6ff div.sk-toggleable__content {max-height: 0;max-width: 0;overflow: hidden;text-align: left;background-color: #f0f8ff;}#sk-97d837a1-3098-4d22-a972-e6a57b65a6ff div.sk-toggleable__content pre {margin: 0.2em;color: black;border-radius: 0.25em;background-color: #f0f8ff;}#sk-97d837a1-3098-4d22-a972-e6a57b65a6ff input.sk-toggleable__control:checked~div.sk-toggleable__content {max-height: 200px;max-width: 100%;overflow: auto;}#sk-97d837a1-3098-4d22-a972-e6a57b65a6ff input.sk-toggleable__control:checked~label.sk-toggleable__label-arrow:before {content: \"▾\";}#sk-97d837a1-3098-4d22-a972-e6a57b65a6ff div.sk-estimator input.sk-toggleable__control:checked~label.sk-toggleable__label {background-color: #d4ebff;}#sk-97d837a1-3098-4d22-a972-e6a57b65a6ff div.sk-label input.sk-toggleable__control:checked~label.sk-toggleable__label {background-color: #d4ebff;}#sk-97d837a1-3098-4d22-a972-e6a57b65a6ff input.sk-hidden--visually {border: 0;clip: rect(1px 1px 1px 1px);clip: rect(1px, 1px, 1px, 1px);height: 1px;margin: -1px;overflow: hidden;padding: 0;position: absolute;width: 1px;}#sk-97d837a1-3098-4d22-a972-e6a57b65a6ff div.sk-estimator {font-family: monospace;background-color: #f0f8ff;border: 1px dotted black;border-radius: 0.25em;box-sizing: border-box;margin-bottom: 0.5em;}#sk-97d837a1-3098-4d22-a972-e6a57b65a6ff div.sk-estimator:hover {background-color: #d4ebff;}#sk-97d837a1-3098-4d22-a972-e6a57b65a6ff div.sk-parallel-item::after {content: \"\";width: 100%;border-bottom: 1px solid gray;flex-grow: 1;}#sk-97d837a1-3098-4d22-a972-e6a57b65a6ff div.sk-label:hover label.sk-toggleable__label {background-color: #d4ebff;}#sk-97d837a1-3098-4d22-a972-e6a57b65a6ff div.sk-serial::before {content: \"\";position: absolute;border-left: 1px solid gray;box-sizing: border-box;top: 2em;bottom: 0;left: 50%;}#sk-97d837a1-3098-4d22-a972-e6a57b65a6ff div.sk-serial {display: flex;flex-direction: column;align-items: center;background-color: white;padding-right: 0.2em;padding-left: 0.2em;}#sk-97d837a1-3098-4d22-a972-e6a57b65a6ff div.sk-item {z-index: 1;}#sk-97d837a1-3098-4d22-a972-e6a57b65a6ff div.sk-parallel {display: flex;align-items: stretch;justify-content: center;background-color: white;}#sk-97d837a1-3098-4d22-a972-e6a57b65a6ff div.sk-parallel::before {content: \"\";position: absolute;border-left: 1px solid gray;box-sizing: border-box;top: 2em;bottom: 0;left: 50%;}#sk-97d837a1-3098-4d22-a972-e6a57b65a6ff div.sk-parallel-item {display: flex;flex-direction: column;position: relative;background-color: white;}#sk-97d837a1-3098-4d22-a972-e6a57b65a6ff div.sk-parallel-item:first-child::after {align-self: flex-end;width: 50%;}#sk-97d837a1-3098-4d22-a972-e6a57b65a6ff div.sk-parallel-item:last-child::after {align-self: flex-start;width: 50%;}#sk-97d837a1-3098-4d22-a972-e6a57b65a6ff div.sk-parallel-item:only-child::after {width: 0;}#sk-97d837a1-3098-4d22-a972-e6a57b65a6ff div.sk-dashed-wrapped {border: 1px dashed gray;margin: 0 0.4em 0.5em 0.4em;box-sizing: border-box;padding-bottom: 0.4em;background-color: white;position: relative;}#sk-97d837a1-3098-4d22-a972-e6a57b65a6ff div.sk-label label {font-family: monospace;font-weight: bold;background-color: white;display: inline-block;line-height: 1.2em;}#sk-97d837a1-3098-4d22-a972-e6a57b65a6ff div.sk-label-container {position: relative;z-index: 2;text-align: center;}#sk-97d837a1-3098-4d22-a972-e6a57b65a6ff div.sk-container {/* jupyter's `normalize.less` sets `[hidden] { display: none; }` but bootstrap.min.css set `[hidden] { display: none !important; }` so we also need the `!important` here to be able to override the default hidden behavior on the sphinx rendered scikit-learn.org. See: https://github.com/scikit-learn/scikit-learn/issues/21755 */display: inline-block !important;position: relative;}#sk-97d837a1-3098-4d22-a972-e6a57b65a6ff div.sk-text-repr-fallback {display: none;}</style><div id=\"sk-97d837a1-3098-4d22-a972-e6a57b65a6ff\" class=\"sk-top-container\"><div class=\"sk-text-repr-fallback\"><pre>GridSearchCV(cv=10,\n",
       "             estimator=Pipeline(steps=[(&#x27;tfidf&#x27;, TfidfVectorizer()),\n",
       "                                       (&#x27;norm&#x27;, Normalizer()),\n",
       "                                       (&#x27;model&#x27;, DecisionTreeClassifier())]),\n",
       "             param_grid={&#x27;model__max_depth&#x27;: [5, 10, 15],\n",
       "                         &#x27;model__min_samples_leaf&#x27;: [5, 10, 15],\n",
       "                         &#x27;tfidf__max_df&#x27;: [0.8, 0.9],\n",
       "                         &#x27;tfidf__min_df&#x27;: [2, 4, 5],\n",
       "                         &#x27;tfidf__ngram_range&#x27;: [(1, 1), (1, 2)]},\n",
       "             scoring=make_scorer(f1_score, average=macro))</pre><b>Please rerun this cell to show the HTML repr or trust the notebook.</b></div><div class=\"sk-container\" hidden><div class=\"sk-item sk-dashed-wrapped\"><div class=\"sk-label-container\"><div class=\"sk-label sk-toggleable\"><input class=\"sk-toggleable__control sk-hidden--visually\" id=\"9645b104-4f5a-45dc-8b6a-b17e1ce5c024\" type=\"checkbox\" ><label for=\"9645b104-4f5a-45dc-8b6a-b17e1ce5c024\" class=\"sk-toggleable__label sk-toggleable__label-arrow\">GridSearchCV</label><div class=\"sk-toggleable__content\"><pre>GridSearchCV(cv=10,\n",
       "             estimator=Pipeline(steps=[(&#x27;tfidf&#x27;, TfidfVectorizer()),\n",
       "                                       (&#x27;norm&#x27;, Normalizer()),\n",
       "                                       (&#x27;model&#x27;, DecisionTreeClassifier())]),\n",
       "             param_grid={&#x27;model__max_depth&#x27;: [5, 10, 15],\n",
       "                         &#x27;model__min_samples_leaf&#x27;: [5, 10, 15],\n",
       "                         &#x27;tfidf__max_df&#x27;: [0.8, 0.9],\n",
       "                         &#x27;tfidf__min_df&#x27;: [2, 4, 5],\n",
       "                         &#x27;tfidf__ngram_range&#x27;: [(1, 1), (1, 2)]},\n",
       "             scoring=make_scorer(f1_score, average=macro))</pre></div></div></div><div class=\"sk-parallel\"><div class=\"sk-parallel-item\"><div class=\"sk-item\"><div class=\"sk-serial\"><div class=\"sk-item\"><div class=\"sk-serial\"><div class=\"sk-item\"><div class=\"sk-estimator sk-toggleable\"><input class=\"sk-toggleable__control sk-hidden--visually\" id=\"010b0ef1-4189-48b0-bab5-9a0a4925822e\" type=\"checkbox\" ><label for=\"010b0ef1-4189-48b0-bab5-9a0a4925822e\" class=\"sk-toggleable__label sk-toggleable__label-arrow\">TfidfVectorizer</label><div class=\"sk-toggleable__content\"><pre>TfidfVectorizer()</pre></div></div></div><div class=\"sk-item\"><div class=\"sk-estimator sk-toggleable\"><input class=\"sk-toggleable__control sk-hidden--visually\" id=\"dd1f9204-785e-444c-98ae-cc1ad2cc3d1f\" type=\"checkbox\" ><label for=\"dd1f9204-785e-444c-98ae-cc1ad2cc3d1f\" class=\"sk-toggleable__label sk-toggleable__label-arrow\">Normalizer</label><div class=\"sk-toggleable__content\"><pre>Normalizer()</pre></div></div></div><div class=\"sk-item\"><div class=\"sk-estimator sk-toggleable\"><input class=\"sk-toggleable__control sk-hidden--visually\" id=\"ec9a2e7d-33f6-4d23-8cb0-fc9d96fb7a23\" type=\"checkbox\" ><label for=\"ec9a2e7d-33f6-4d23-8cb0-fc9d96fb7a23\" class=\"sk-toggleable__label sk-toggleable__label-arrow\">DecisionTreeClassifier</label><div class=\"sk-toggleable__content\"><pre>DecisionTreeClassifier()</pre></div></div></div></div></div></div></div></div></div></div></div></div>"
      ],
      "text/plain": [
       "GridSearchCV(cv=10,\n",
       "             estimator=Pipeline(steps=[('tfidf', TfidfVectorizer()),\n",
       "                                       ('norm', Normalizer()),\n",
       "                                       ('model', DecisionTreeClassifier())]),\n",
       "             param_grid={'model__max_depth': [5, 10, 15],\n",
       "                         'model__min_samples_leaf': [5, 10, 15],\n",
       "                         'tfidf__max_df': [0.8, 0.9],\n",
       "                         'tfidf__min_df': [2, 4, 5],\n",
       "                         'tfidf__ngram_range': [(1, 1), (1, 2)]},\n",
       "             scoring=make_scorer(f1_score, average=macro))"
      ]
     },
     "execution_count": 16,
     "metadata": {},
     "output_type": "execute_result"
    },
    {
     "name": "stdout",
     "output_type": "stream",
     "text": [
      "Best score is: 0.648\n",
      "Best estimator: Pipeline(steps=[('tfidf', TfidfVectorizer(max_df=0.9, min_df=4)),\n",
      "                ('norm', Normalizer()),\n",
      "                ('model',\n",
      "                 DecisionTreeClassifier(max_depth=5, min_samples_leaf=15))])\n"
     ]
    },
    {
     "data": {
      "text/html": [
       "<style>#sk-54a4d53d-f847-4817-aba9-05d37227493f {color: black;background-color: white;}#sk-54a4d53d-f847-4817-aba9-05d37227493f pre{padding: 0;}#sk-54a4d53d-f847-4817-aba9-05d37227493f div.sk-toggleable {background-color: white;}#sk-54a4d53d-f847-4817-aba9-05d37227493f label.sk-toggleable__label {cursor: pointer;display: block;width: 100%;margin-bottom: 0;padding: 0.3em;box-sizing: border-box;text-align: center;}#sk-54a4d53d-f847-4817-aba9-05d37227493f label.sk-toggleable__label-arrow:before {content: \"▸\";float: left;margin-right: 0.25em;color: #696969;}#sk-54a4d53d-f847-4817-aba9-05d37227493f label.sk-toggleable__label-arrow:hover:before {color: black;}#sk-54a4d53d-f847-4817-aba9-05d37227493f div.sk-estimator:hover label.sk-toggleable__label-arrow:before {color: black;}#sk-54a4d53d-f847-4817-aba9-05d37227493f div.sk-toggleable__content {max-height: 0;max-width: 0;overflow: hidden;text-align: left;background-color: #f0f8ff;}#sk-54a4d53d-f847-4817-aba9-05d37227493f div.sk-toggleable__content pre {margin: 0.2em;color: black;border-radius: 0.25em;background-color: #f0f8ff;}#sk-54a4d53d-f847-4817-aba9-05d37227493f input.sk-toggleable__control:checked~div.sk-toggleable__content {max-height: 200px;max-width: 100%;overflow: auto;}#sk-54a4d53d-f847-4817-aba9-05d37227493f input.sk-toggleable__control:checked~label.sk-toggleable__label-arrow:before {content: \"▾\";}#sk-54a4d53d-f847-4817-aba9-05d37227493f div.sk-estimator input.sk-toggleable__control:checked~label.sk-toggleable__label {background-color: #d4ebff;}#sk-54a4d53d-f847-4817-aba9-05d37227493f div.sk-label input.sk-toggleable__control:checked~label.sk-toggleable__label {background-color: #d4ebff;}#sk-54a4d53d-f847-4817-aba9-05d37227493f input.sk-hidden--visually {border: 0;clip: rect(1px 1px 1px 1px);clip: rect(1px, 1px, 1px, 1px);height: 1px;margin: -1px;overflow: hidden;padding: 0;position: absolute;width: 1px;}#sk-54a4d53d-f847-4817-aba9-05d37227493f div.sk-estimator {font-family: monospace;background-color: #f0f8ff;border: 1px dotted black;border-radius: 0.25em;box-sizing: border-box;margin-bottom: 0.5em;}#sk-54a4d53d-f847-4817-aba9-05d37227493f div.sk-estimator:hover {background-color: #d4ebff;}#sk-54a4d53d-f847-4817-aba9-05d37227493f div.sk-parallel-item::after {content: \"\";width: 100%;border-bottom: 1px solid gray;flex-grow: 1;}#sk-54a4d53d-f847-4817-aba9-05d37227493f div.sk-label:hover label.sk-toggleable__label {background-color: #d4ebff;}#sk-54a4d53d-f847-4817-aba9-05d37227493f div.sk-serial::before {content: \"\";position: absolute;border-left: 1px solid gray;box-sizing: border-box;top: 2em;bottom: 0;left: 50%;}#sk-54a4d53d-f847-4817-aba9-05d37227493f div.sk-serial {display: flex;flex-direction: column;align-items: center;background-color: white;padding-right: 0.2em;padding-left: 0.2em;}#sk-54a4d53d-f847-4817-aba9-05d37227493f div.sk-item {z-index: 1;}#sk-54a4d53d-f847-4817-aba9-05d37227493f div.sk-parallel {display: flex;align-items: stretch;justify-content: center;background-color: white;}#sk-54a4d53d-f847-4817-aba9-05d37227493f div.sk-parallel::before {content: \"\";position: absolute;border-left: 1px solid gray;box-sizing: border-box;top: 2em;bottom: 0;left: 50%;}#sk-54a4d53d-f847-4817-aba9-05d37227493f div.sk-parallel-item {display: flex;flex-direction: column;position: relative;background-color: white;}#sk-54a4d53d-f847-4817-aba9-05d37227493f div.sk-parallel-item:first-child::after {align-self: flex-end;width: 50%;}#sk-54a4d53d-f847-4817-aba9-05d37227493f div.sk-parallel-item:last-child::after {align-self: flex-start;width: 50%;}#sk-54a4d53d-f847-4817-aba9-05d37227493f div.sk-parallel-item:only-child::after {width: 0;}#sk-54a4d53d-f847-4817-aba9-05d37227493f div.sk-dashed-wrapped {border: 1px dashed gray;margin: 0 0.4em 0.5em 0.4em;box-sizing: border-box;padding-bottom: 0.4em;background-color: white;position: relative;}#sk-54a4d53d-f847-4817-aba9-05d37227493f div.sk-label label {font-family: monospace;font-weight: bold;background-color: white;display: inline-block;line-height: 1.2em;}#sk-54a4d53d-f847-4817-aba9-05d37227493f div.sk-label-container {position: relative;z-index: 2;text-align: center;}#sk-54a4d53d-f847-4817-aba9-05d37227493f div.sk-container {/* jupyter's `normalize.less` sets `[hidden] { display: none; }` but bootstrap.min.css set `[hidden] { display: none !important; }` so we also need the `!important` here to be able to override the default hidden behavior on the sphinx rendered scikit-learn.org. See: https://github.com/scikit-learn/scikit-learn/issues/21755 */display: inline-block !important;position: relative;}#sk-54a4d53d-f847-4817-aba9-05d37227493f div.sk-text-repr-fallback {display: none;}</style><div id=\"sk-54a4d53d-f847-4817-aba9-05d37227493f\" class=\"sk-top-container\"><div class=\"sk-text-repr-fallback\"><pre>GridSearchCV(cv=10,\n",
       "             estimator=Pipeline(steps=[(&#x27;tfidf&#x27;, TfidfVectorizer()),\n",
       "                                       (&#x27;norm&#x27;, Normalizer()),\n",
       "                                       (&#x27;model&#x27;, MultinomialNB())]),\n",
       "             param_grid={&#x27;model__alpha&#x27;: [0.01, 0.1, 1],\n",
       "                         &#x27;tfidf__max_df&#x27;: [0.8, 0.9],\n",
       "                         &#x27;tfidf__min_df&#x27;: [2, 4, 5],\n",
       "                         &#x27;tfidf__ngram_range&#x27;: [(1, 1), (1, 2)]},\n",
       "             scoring=make_scorer(f1_score, average=macro))</pre><b>Please rerun this cell to show the HTML repr or trust the notebook.</b></div><div class=\"sk-container\" hidden><div class=\"sk-item sk-dashed-wrapped\"><div class=\"sk-label-container\"><div class=\"sk-label sk-toggleable\"><input class=\"sk-toggleable__control sk-hidden--visually\" id=\"06d6cf5e-a337-4601-80f6-c174d8c49108\" type=\"checkbox\" ><label for=\"06d6cf5e-a337-4601-80f6-c174d8c49108\" class=\"sk-toggleable__label sk-toggleable__label-arrow\">GridSearchCV</label><div class=\"sk-toggleable__content\"><pre>GridSearchCV(cv=10,\n",
       "             estimator=Pipeline(steps=[(&#x27;tfidf&#x27;, TfidfVectorizer()),\n",
       "                                       (&#x27;norm&#x27;, Normalizer()),\n",
       "                                       (&#x27;model&#x27;, MultinomialNB())]),\n",
       "             param_grid={&#x27;model__alpha&#x27;: [0.01, 0.1, 1],\n",
       "                         &#x27;tfidf__max_df&#x27;: [0.8, 0.9],\n",
       "                         &#x27;tfidf__min_df&#x27;: [2, 4, 5],\n",
       "                         &#x27;tfidf__ngram_range&#x27;: [(1, 1), (1, 2)]},\n",
       "             scoring=make_scorer(f1_score, average=macro))</pre></div></div></div><div class=\"sk-parallel\"><div class=\"sk-parallel-item\"><div class=\"sk-item\"><div class=\"sk-serial\"><div class=\"sk-item\"><div class=\"sk-serial\"><div class=\"sk-item\"><div class=\"sk-estimator sk-toggleable\"><input class=\"sk-toggleable__control sk-hidden--visually\" id=\"43064110-10f1-4ab8-8061-1db16dee69d4\" type=\"checkbox\" ><label for=\"43064110-10f1-4ab8-8061-1db16dee69d4\" class=\"sk-toggleable__label sk-toggleable__label-arrow\">TfidfVectorizer</label><div class=\"sk-toggleable__content\"><pre>TfidfVectorizer()</pre></div></div></div><div class=\"sk-item\"><div class=\"sk-estimator sk-toggleable\"><input class=\"sk-toggleable__control sk-hidden--visually\" id=\"28be519e-7468-49ec-9579-3a17ffec0d51\" type=\"checkbox\" ><label for=\"28be519e-7468-49ec-9579-3a17ffec0d51\" class=\"sk-toggleable__label sk-toggleable__label-arrow\">Normalizer</label><div class=\"sk-toggleable__content\"><pre>Normalizer()</pre></div></div></div><div class=\"sk-item\"><div class=\"sk-estimator sk-toggleable\"><input class=\"sk-toggleable__control sk-hidden--visually\" id=\"4f681c56-aa5f-4205-af90-cd0f73efc47c\" type=\"checkbox\" ><label for=\"4f681c56-aa5f-4205-af90-cd0f73efc47c\" class=\"sk-toggleable__label sk-toggleable__label-arrow\">MultinomialNB</label><div class=\"sk-toggleable__content\"><pre>MultinomialNB()</pre></div></div></div></div></div></div></div></div></div></div></div></div>"
      ],
      "text/plain": [
       "GridSearchCV(cv=10,\n",
       "             estimator=Pipeline(steps=[('tfidf', TfidfVectorizer()),\n",
       "                                       ('norm', Normalizer()),\n",
       "                                       ('model', MultinomialNB())]),\n",
       "             param_grid={'model__alpha': [0.01, 0.1, 1],\n",
       "                         'tfidf__max_df': [0.8, 0.9],\n",
       "                         'tfidf__min_df': [2, 4, 5],\n",
       "                         'tfidf__ngram_range': [(1, 1), (1, 2)]},\n",
       "             scoring=make_scorer(f1_score, average=macro))"
      ]
     },
     "execution_count": 16,
     "metadata": {},
     "output_type": "execute_result"
    },
    {
     "name": "stdout",
     "output_type": "stream",
     "text": [
      "Best score is: 0.526\n",
      "Best estimator: Pipeline(steps=[('tfidf',\n",
      "                 TfidfVectorizer(max_df=0.8, min_df=5, ngram_range=(1, 2))),\n",
      "                ('norm', Normalizer()), ('model', MultinomialNB(alpha=0.01))])\n"
     ]
    },
    {
     "data": {
      "text/html": [
       "<style>#sk-b31f03c7-ce87-453f-8d30-eb5eaecc3ce5 {color: black;background-color: white;}#sk-b31f03c7-ce87-453f-8d30-eb5eaecc3ce5 pre{padding: 0;}#sk-b31f03c7-ce87-453f-8d30-eb5eaecc3ce5 div.sk-toggleable {background-color: white;}#sk-b31f03c7-ce87-453f-8d30-eb5eaecc3ce5 label.sk-toggleable__label {cursor: pointer;display: block;width: 100%;margin-bottom: 0;padding: 0.3em;box-sizing: border-box;text-align: center;}#sk-b31f03c7-ce87-453f-8d30-eb5eaecc3ce5 label.sk-toggleable__label-arrow:before {content: \"▸\";float: left;margin-right: 0.25em;color: #696969;}#sk-b31f03c7-ce87-453f-8d30-eb5eaecc3ce5 label.sk-toggleable__label-arrow:hover:before {color: black;}#sk-b31f03c7-ce87-453f-8d30-eb5eaecc3ce5 div.sk-estimator:hover label.sk-toggleable__label-arrow:before {color: black;}#sk-b31f03c7-ce87-453f-8d30-eb5eaecc3ce5 div.sk-toggleable__content {max-height: 0;max-width: 0;overflow: hidden;text-align: left;background-color: #f0f8ff;}#sk-b31f03c7-ce87-453f-8d30-eb5eaecc3ce5 div.sk-toggleable__content pre {margin: 0.2em;color: black;border-radius: 0.25em;background-color: #f0f8ff;}#sk-b31f03c7-ce87-453f-8d30-eb5eaecc3ce5 input.sk-toggleable__control:checked~div.sk-toggleable__content {max-height: 200px;max-width: 100%;overflow: auto;}#sk-b31f03c7-ce87-453f-8d30-eb5eaecc3ce5 input.sk-toggleable__control:checked~label.sk-toggleable__label-arrow:before {content: \"▾\";}#sk-b31f03c7-ce87-453f-8d30-eb5eaecc3ce5 div.sk-estimator input.sk-toggleable__control:checked~label.sk-toggleable__label {background-color: #d4ebff;}#sk-b31f03c7-ce87-453f-8d30-eb5eaecc3ce5 div.sk-label input.sk-toggleable__control:checked~label.sk-toggleable__label {background-color: #d4ebff;}#sk-b31f03c7-ce87-453f-8d30-eb5eaecc3ce5 input.sk-hidden--visually {border: 0;clip: rect(1px 1px 1px 1px);clip: rect(1px, 1px, 1px, 1px);height: 1px;margin: -1px;overflow: hidden;padding: 0;position: absolute;width: 1px;}#sk-b31f03c7-ce87-453f-8d30-eb5eaecc3ce5 div.sk-estimator {font-family: monospace;background-color: #f0f8ff;border: 1px dotted black;border-radius: 0.25em;box-sizing: border-box;margin-bottom: 0.5em;}#sk-b31f03c7-ce87-453f-8d30-eb5eaecc3ce5 div.sk-estimator:hover {background-color: #d4ebff;}#sk-b31f03c7-ce87-453f-8d30-eb5eaecc3ce5 div.sk-parallel-item::after {content: \"\";width: 100%;border-bottom: 1px solid gray;flex-grow: 1;}#sk-b31f03c7-ce87-453f-8d30-eb5eaecc3ce5 div.sk-label:hover label.sk-toggleable__label {background-color: #d4ebff;}#sk-b31f03c7-ce87-453f-8d30-eb5eaecc3ce5 div.sk-serial::before {content: \"\";position: absolute;border-left: 1px solid gray;box-sizing: border-box;top: 2em;bottom: 0;left: 50%;}#sk-b31f03c7-ce87-453f-8d30-eb5eaecc3ce5 div.sk-serial {display: flex;flex-direction: column;align-items: center;background-color: white;padding-right: 0.2em;padding-left: 0.2em;}#sk-b31f03c7-ce87-453f-8d30-eb5eaecc3ce5 div.sk-item {z-index: 1;}#sk-b31f03c7-ce87-453f-8d30-eb5eaecc3ce5 div.sk-parallel {display: flex;align-items: stretch;justify-content: center;background-color: white;}#sk-b31f03c7-ce87-453f-8d30-eb5eaecc3ce5 div.sk-parallel::before {content: \"\";position: absolute;border-left: 1px solid gray;box-sizing: border-box;top: 2em;bottom: 0;left: 50%;}#sk-b31f03c7-ce87-453f-8d30-eb5eaecc3ce5 div.sk-parallel-item {display: flex;flex-direction: column;position: relative;background-color: white;}#sk-b31f03c7-ce87-453f-8d30-eb5eaecc3ce5 div.sk-parallel-item:first-child::after {align-self: flex-end;width: 50%;}#sk-b31f03c7-ce87-453f-8d30-eb5eaecc3ce5 div.sk-parallel-item:last-child::after {align-self: flex-start;width: 50%;}#sk-b31f03c7-ce87-453f-8d30-eb5eaecc3ce5 div.sk-parallel-item:only-child::after {width: 0;}#sk-b31f03c7-ce87-453f-8d30-eb5eaecc3ce5 div.sk-dashed-wrapped {border: 1px dashed gray;margin: 0 0.4em 0.5em 0.4em;box-sizing: border-box;padding-bottom: 0.4em;background-color: white;position: relative;}#sk-b31f03c7-ce87-453f-8d30-eb5eaecc3ce5 div.sk-label label {font-family: monospace;font-weight: bold;background-color: white;display: inline-block;line-height: 1.2em;}#sk-b31f03c7-ce87-453f-8d30-eb5eaecc3ce5 div.sk-label-container {position: relative;z-index: 2;text-align: center;}#sk-b31f03c7-ce87-453f-8d30-eb5eaecc3ce5 div.sk-container {/* jupyter's `normalize.less` sets `[hidden] { display: none; }` but bootstrap.min.css set `[hidden] { display: none !important; }` so we also need the `!important` here to be able to override the default hidden behavior on the sphinx rendered scikit-learn.org. See: https://github.com/scikit-learn/scikit-learn/issues/21755 */display: inline-block !important;position: relative;}#sk-b31f03c7-ce87-453f-8d30-eb5eaecc3ce5 div.sk-text-repr-fallback {display: none;}</style><div id=\"sk-b31f03c7-ce87-453f-8d30-eb5eaecc3ce5\" class=\"sk-top-container\"><div class=\"sk-text-repr-fallback\"><pre>GridSearchCV(cv=10,\n",
       "             estimator=Pipeline(steps=[(&#x27;tfidf&#x27;, TfidfVectorizer()),\n",
       "                                       (&#x27;norm&#x27;, Normalizer()),\n",
       "                                       (&#x27;model&#x27;, SGDClassifier())]),\n",
       "             param_grid={&#x27;model__alpha&#x27;: [0.001, 0.0001],\n",
       "                         &#x27;model__penalty&#x27;: [&#x27;l1&#x27;, &#x27;l2&#x27;],\n",
       "                         &#x27;tfidf__max_df&#x27;: [0.8, 0.9],\n",
       "                         &#x27;tfidf__min_df&#x27;: [2, 4, 5],\n",
       "                         &#x27;tfidf__ngram_range&#x27;: [(1, 1), (1, 2)]},\n",
       "             scoring=make_scorer(f1_score, average=macro))</pre><b>Please rerun this cell to show the HTML repr or trust the notebook.</b></div><div class=\"sk-container\" hidden><div class=\"sk-item sk-dashed-wrapped\"><div class=\"sk-label-container\"><div class=\"sk-label sk-toggleable\"><input class=\"sk-toggleable__control sk-hidden--visually\" id=\"cf249faf-6b00-4a36-9fc3-11acf0d05304\" type=\"checkbox\" ><label for=\"cf249faf-6b00-4a36-9fc3-11acf0d05304\" class=\"sk-toggleable__label sk-toggleable__label-arrow\">GridSearchCV</label><div class=\"sk-toggleable__content\"><pre>GridSearchCV(cv=10,\n",
       "             estimator=Pipeline(steps=[(&#x27;tfidf&#x27;, TfidfVectorizer()),\n",
       "                                       (&#x27;norm&#x27;, Normalizer()),\n",
       "                                       (&#x27;model&#x27;, SGDClassifier())]),\n",
       "             param_grid={&#x27;model__alpha&#x27;: [0.001, 0.0001],\n",
       "                         &#x27;model__penalty&#x27;: [&#x27;l1&#x27;, &#x27;l2&#x27;],\n",
       "                         &#x27;tfidf__max_df&#x27;: [0.8, 0.9],\n",
       "                         &#x27;tfidf__min_df&#x27;: [2, 4, 5],\n",
       "                         &#x27;tfidf__ngram_range&#x27;: [(1, 1), (1, 2)]},\n",
       "             scoring=make_scorer(f1_score, average=macro))</pre></div></div></div><div class=\"sk-parallel\"><div class=\"sk-parallel-item\"><div class=\"sk-item\"><div class=\"sk-serial\"><div class=\"sk-item\"><div class=\"sk-serial\"><div class=\"sk-item\"><div class=\"sk-estimator sk-toggleable\"><input class=\"sk-toggleable__control sk-hidden--visually\" id=\"caf012d4-3607-44e7-b6b4-e9872f8bd78a\" type=\"checkbox\" ><label for=\"caf012d4-3607-44e7-b6b4-e9872f8bd78a\" class=\"sk-toggleable__label sk-toggleable__label-arrow\">TfidfVectorizer</label><div class=\"sk-toggleable__content\"><pre>TfidfVectorizer()</pre></div></div></div><div class=\"sk-item\"><div class=\"sk-estimator sk-toggleable\"><input class=\"sk-toggleable__control sk-hidden--visually\" id=\"47ea6697-692d-4062-a8b6-e09594ff6a80\" type=\"checkbox\" ><label for=\"47ea6697-692d-4062-a8b6-e09594ff6a80\" class=\"sk-toggleable__label sk-toggleable__label-arrow\">Normalizer</label><div class=\"sk-toggleable__content\"><pre>Normalizer()</pre></div></div></div><div class=\"sk-item\"><div class=\"sk-estimator sk-toggleable\"><input class=\"sk-toggleable__control sk-hidden--visually\" id=\"5310bcbb-b857-4239-a704-061fbca7e6ea\" type=\"checkbox\" ><label for=\"5310bcbb-b857-4239-a704-061fbca7e6ea\" class=\"sk-toggleable__label sk-toggleable__label-arrow\">SGDClassifier</label><div class=\"sk-toggleable__content\"><pre>SGDClassifier()</pre></div></div></div></div></div></div></div></div></div></div></div></div>"
      ],
      "text/plain": [
       "GridSearchCV(cv=10,\n",
       "             estimator=Pipeline(steps=[('tfidf', TfidfVectorizer()),\n",
       "                                       ('norm', Normalizer()),\n",
       "                                       ('model', SGDClassifier())]),\n",
       "             param_grid={'model__alpha': [0.001, 0.0001],\n",
       "                         'model__penalty': ['l1', 'l2'],\n",
       "                         'tfidf__max_df': [0.8, 0.9],\n",
       "                         'tfidf__min_df': [2, 4, 5],\n",
       "                         'tfidf__ngram_range': [(1, 1), (1, 2)]},\n",
       "             scoring=make_scorer(f1_score, average=macro))"
      ]
     },
     "execution_count": 16,
     "metadata": {},
     "output_type": "execute_result"
    },
    {
     "name": "stdout",
     "output_type": "stream",
     "text": [
      "Best score is: 0.719\n",
      "Best estimator: Pipeline(steps=[('tfidf',\n",
      "                 TfidfVectorizer(max_df=0.8, min_df=2, ngram_range=(1, 2))),\n",
      "                ('norm', Normalizer()),\n",
      "                ('model', SGDClassifier(penalty='l1'))])\n"
     ]
    },
    {
     "data": {
      "text/html": [
       "<style>#sk-964e6715-c0b7-46c7-9f8f-e654fdd8e3df {color: black;background-color: white;}#sk-964e6715-c0b7-46c7-9f8f-e654fdd8e3df pre{padding: 0;}#sk-964e6715-c0b7-46c7-9f8f-e654fdd8e3df div.sk-toggleable {background-color: white;}#sk-964e6715-c0b7-46c7-9f8f-e654fdd8e3df label.sk-toggleable__label {cursor: pointer;display: block;width: 100%;margin-bottom: 0;padding: 0.3em;box-sizing: border-box;text-align: center;}#sk-964e6715-c0b7-46c7-9f8f-e654fdd8e3df label.sk-toggleable__label-arrow:before {content: \"▸\";float: left;margin-right: 0.25em;color: #696969;}#sk-964e6715-c0b7-46c7-9f8f-e654fdd8e3df label.sk-toggleable__label-arrow:hover:before {color: black;}#sk-964e6715-c0b7-46c7-9f8f-e654fdd8e3df div.sk-estimator:hover label.sk-toggleable__label-arrow:before {color: black;}#sk-964e6715-c0b7-46c7-9f8f-e654fdd8e3df div.sk-toggleable__content {max-height: 0;max-width: 0;overflow: hidden;text-align: left;background-color: #f0f8ff;}#sk-964e6715-c0b7-46c7-9f8f-e654fdd8e3df div.sk-toggleable__content pre {margin: 0.2em;color: black;border-radius: 0.25em;background-color: #f0f8ff;}#sk-964e6715-c0b7-46c7-9f8f-e654fdd8e3df input.sk-toggleable__control:checked~div.sk-toggleable__content {max-height: 200px;max-width: 100%;overflow: auto;}#sk-964e6715-c0b7-46c7-9f8f-e654fdd8e3df input.sk-toggleable__control:checked~label.sk-toggleable__label-arrow:before {content: \"▾\";}#sk-964e6715-c0b7-46c7-9f8f-e654fdd8e3df div.sk-estimator input.sk-toggleable__control:checked~label.sk-toggleable__label {background-color: #d4ebff;}#sk-964e6715-c0b7-46c7-9f8f-e654fdd8e3df div.sk-label input.sk-toggleable__control:checked~label.sk-toggleable__label {background-color: #d4ebff;}#sk-964e6715-c0b7-46c7-9f8f-e654fdd8e3df input.sk-hidden--visually {border: 0;clip: rect(1px 1px 1px 1px);clip: rect(1px, 1px, 1px, 1px);height: 1px;margin: -1px;overflow: hidden;padding: 0;position: absolute;width: 1px;}#sk-964e6715-c0b7-46c7-9f8f-e654fdd8e3df div.sk-estimator {font-family: monospace;background-color: #f0f8ff;border: 1px dotted black;border-radius: 0.25em;box-sizing: border-box;margin-bottom: 0.5em;}#sk-964e6715-c0b7-46c7-9f8f-e654fdd8e3df div.sk-estimator:hover {background-color: #d4ebff;}#sk-964e6715-c0b7-46c7-9f8f-e654fdd8e3df div.sk-parallel-item::after {content: \"\";width: 100%;border-bottom: 1px solid gray;flex-grow: 1;}#sk-964e6715-c0b7-46c7-9f8f-e654fdd8e3df div.sk-label:hover label.sk-toggleable__label {background-color: #d4ebff;}#sk-964e6715-c0b7-46c7-9f8f-e654fdd8e3df div.sk-serial::before {content: \"\";position: absolute;border-left: 1px solid gray;box-sizing: border-box;top: 2em;bottom: 0;left: 50%;}#sk-964e6715-c0b7-46c7-9f8f-e654fdd8e3df div.sk-serial {display: flex;flex-direction: column;align-items: center;background-color: white;padding-right: 0.2em;padding-left: 0.2em;}#sk-964e6715-c0b7-46c7-9f8f-e654fdd8e3df div.sk-item {z-index: 1;}#sk-964e6715-c0b7-46c7-9f8f-e654fdd8e3df div.sk-parallel {display: flex;align-items: stretch;justify-content: center;background-color: white;}#sk-964e6715-c0b7-46c7-9f8f-e654fdd8e3df div.sk-parallel::before {content: \"\";position: absolute;border-left: 1px solid gray;box-sizing: border-box;top: 2em;bottom: 0;left: 50%;}#sk-964e6715-c0b7-46c7-9f8f-e654fdd8e3df div.sk-parallel-item {display: flex;flex-direction: column;position: relative;background-color: white;}#sk-964e6715-c0b7-46c7-9f8f-e654fdd8e3df div.sk-parallel-item:first-child::after {align-self: flex-end;width: 50%;}#sk-964e6715-c0b7-46c7-9f8f-e654fdd8e3df div.sk-parallel-item:last-child::after {align-self: flex-start;width: 50%;}#sk-964e6715-c0b7-46c7-9f8f-e654fdd8e3df div.sk-parallel-item:only-child::after {width: 0;}#sk-964e6715-c0b7-46c7-9f8f-e654fdd8e3df div.sk-dashed-wrapped {border: 1px dashed gray;margin: 0 0.4em 0.5em 0.4em;box-sizing: border-box;padding-bottom: 0.4em;background-color: white;position: relative;}#sk-964e6715-c0b7-46c7-9f8f-e654fdd8e3df div.sk-label label {font-family: monospace;font-weight: bold;background-color: white;display: inline-block;line-height: 1.2em;}#sk-964e6715-c0b7-46c7-9f8f-e654fdd8e3df div.sk-label-container {position: relative;z-index: 2;text-align: center;}#sk-964e6715-c0b7-46c7-9f8f-e654fdd8e3df div.sk-container {/* jupyter's `normalize.less` sets `[hidden] { display: none; }` but bootstrap.min.css set `[hidden] { display: none !important; }` so we also need the `!important` here to be able to override the default hidden behavior on the sphinx rendered scikit-learn.org. See: https://github.com/scikit-learn/scikit-learn/issues/21755 */display: inline-block !important;position: relative;}#sk-964e6715-c0b7-46c7-9f8f-e654fdd8e3df div.sk-text-repr-fallback {display: none;}</style><div id=\"sk-964e6715-c0b7-46c7-9f8f-e654fdd8e3df\" class=\"sk-top-container\"><div class=\"sk-text-repr-fallback\"><pre>GridSearchCV(cv=10,\n",
       "             estimator=Pipeline(steps=[(&#x27;tfidf&#x27;, TfidfVectorizer()),\n",
       "                                       (&#x27;norm&#x27;, Normalizer()),\n",
       "                                       (&#x27;model&#x27;, KNeighborsClassifier())]),\n",
       "             param_grid={&#x27;model__leaf_size&#x27;: [10, 20, 30],\n",
       "                         &#x27;model__metric&#x27;: [&#x27;euclidean&#x27;, &#x27;manhattan&#x27;,\n",
       "                                           &#x27;chebyshev&#x27;],\n",
       "                         &#x27;model__n_neighbors&#x27;: [3, 5, 7],\n",
       "                         &#x27;tfidf__max_df&#x27;: [0.8, 0.9],\n",
       "                         &#x27;tfidf__min_df&#x27;: [2, 4, 5],\n",
       "                         &#x27;tfidf__ngram_range&#x27;: [(1, 1), (1, 2)]},\n",
       "             scoring=make_scorer(f1_score, average=macro))</pre><b>Please rerun this cell to show the HTML repr or trust the notebook.</b></div><div class=\"sk-container\" hidden><div class=\"sk-item sk-dashed-wrapped\"><div class=\"sk-label-container\"><div class=\"sk-label sk-toggleable\"><input class=\"sk-toggleable__control sk-hidden--visually\" id=\"451625ad-842e-4a97-b5b3-2bba2d308f54\" type=\"checkbox\" ><label for=\"451625ad-842e-4a97-b5b3-2bba2d308f54\" class=\"sk-toggleable__label sk-toggleable__label-arrow\">GridSearchCV</label><div class=\"sk-toggleable__content\"><pre>GridSearchCV(cv=10,\n",
       "             estimator=Pipeline(steps=[(&#x27;tfidf&#x27;, TfidfVectorizer()),\n",
       "                                       (&#x27;norm&#x27;, Normalizer()),\n",
       "                                       (&#x27;model&#x27;, KNeighborsClassifier())]),\n",
       "             param_grid={&#x27;model__leaf_size&#x27;: [10, 20, 30],\n",
       "                         &#x27;model__metric&#x27;: [&#x27;euclidean&#x27;, &#x27;manhattan&#x27;,\n",
       "                                           &#x27;chebyshev&#x27;],\n",
       "                         &#x27;model__n_neighbors&#x27;: [3, 5, 7],\n",
       "                         &#x27;tfidf__max_df&#x27;: [0.8, 0.9],\n",
       "                         &#x27;tfidf__min_df&#x27;: [2, 4, 5],\n",
       "                         &#x27;tfidf__ngram_range&#x27;: [(1, 1), (1, 2)]},\n",
       "             scoring=make_scorer(f1_score, average=macro))</pre></div></div></div><div class=\"sk-parallel\"><div class=\"sk-parallel-item\"><div class=\"sk-item\"><div class=\"sk-serial\"><div class=\"sk-item\"><div class=\"sk-serial\"><div class=\"sk-item\"><div class=\"sk-estimator sk-toggleable\"><input class=\"sk-toggleable__control sk-hidden--visually\" id=\"cc3291c0-28e3-471c-a622-de652684586e\" type=\"checkbox\" ><label for=\"cc3291c0-28e3-471c-a622-de652684586e\" class=\"sk-toggleable__label sk-toggleable__label-arrow\">TfidfVectorizer</label><div class=\"sk-toggleable__content\"><pre>TfidfVectorizer()</pre></div></div></div><div class=\"sk-item\"><div class=\"sk-estimator sk-toggleable\"><input class=\"sk-toggleable__control sk-hidden--visually\" id=\"ec5c9fa0-83e6-4bca-b7b5-217271b971b2\" type=\"checkbox\" ><label for=\"ec5c9fa0-83e6-4bca-b7b5-217271b971b2\" class=\"sk-toggleable__label sk-toggleable__label-arrow\">Normalizer</label><div class=\"sk-toggleable__content\"><pre>Normalizer()</pre></div></div></div><div class=\"sk-item\"><div class=\"sk-estimator sk-toggleable\"><input class=\"sk-toggleable__control sk-hidden--visually\" id=\"bffcec87-9d15-4490-b3a3-eff246462756\" type=\"checkbox\" ><label for=\"bffcec87-9d15-4490-b3a3-eff246462756\" class=\"sk-toggleable__label sk-toggleable__label-arrow\">KNeighborsClassifier</label><div class=\"sk-toggleable__content\"><pre>KNeighborsClassifier()</pre></div></div></div></div></div></div></div></div></div></div></div></div>"
      ],
      "text/plain": [
       "GridSearchCV(cv=10,\n",
       "             estimator=Pipeline(steps=[('tfidf', TfidfVectorizer()),\n",
       "                                       ('norm', Normalizer()),\n",
       "                                       ('model', KNeighborsClassifier())]),\n",
       "             param_grid={'model__leaf_size': [10, 20, 30],\n",
       "                         'model__metric': ['euclidean', 'manhattan',\n",
       "                                           'chebyshev'],\n",
       "                         'model__n_neighbors': [3, 5, 7],\n",
       "                         'tfidf__max_df': [0.8, 0.9],\n",
       "                         'tfidf__min_df': [2, 4, 5],\n",
       "                         'tfidf__ngram_range': [(1, 1), (1, 2)]},\n",
       "             scoring=make_scorer(f1_score, average=macro))"
      ]
     },
     "execution_count": 16,
     "metadata": {},
     "output_type": "execute_result"
    },
    {
     "name": "stdout",
     "output_type": "stream",
     "text": [
      "Best score is: 0.613\n",
      "Best estimator: Pipeline(steps=[('tfidf',\n",
      "                 TfidfVectorizer(max_df=0.9, min_df=2, ngram_range=(1, 2))),\n",
      "                ('norm', Normalizer()),\n",
      "                ('model',\n",
      "                 KNeighborsClassifier(leaf_size=10, metric='euclidean'))])\n"
     ]
    }
   ],
   "source": [
    "for name, model in models:\n",
    "    pipeline = Pipeline([\n",
    "        ('tfidf', TfidfVectorizer()),\n",
    "        ('norm', preprocessing.Normalizer(norm = 'l2')),\n",
    "        ('model', model)\n",
    "    ])\n",
    "  \n",
    "\n",
    "    parameters = set_parameters()\n",
    "\n",
    "    grid = GridSearchCV(pipeline, parameters, scoring=make_scorer(f1_score, average='macro'), cv=10)\n",
    "    grid.fit(X_train, y_train)\n",
    "\n",
    "\n",
    "    print(\"Best score is:\", round(grid.best_score_, 3))\n",
    "    print(\"Best estimator:\", grid.best_estimator_)"
   ]
  },
  {
   "cell_type": "markdown",
   "metadata": {
    "id": "mSTquQegO6jV"
   },
   "source": [
    "## Significant Improvements Achieved in Model Performance!\n",
    "After investing some time and effort, it is clear that the `SGDClassifier()` and `Perceptron()` models have shown the most promising results. These models outperformed the others and demonstrated superior performance.\n",
    "\n",
    "Now that we have identified these two models as the top performers, we can focus our attention on further tuning them to try achieve even better results. \n",
    "\n",
    "---\n",
    "\n"
   ]
  },
  {
   "cell_type": "code",
   "execution_count": 23,
   "metadata": {
    "id": "FrYFy8Cl4Vym"
   },
   "outputs": [],
   "source": [
    "chosen_models = [\n",
    "    ('Perceptron', Perceptron()),\n",
    "    ('SGDClassifier', SGDClassifier()),\n",
    "]"
   ]
  },
  {
   "cell_type": "code",
   "execution_count": 24,
   "metadata": {
    "id": "eGYR5jniQURz"
   },
   "outputs": [],
   "source": [
    "def set_parameters_for_the_chosen_models():\n",
    "    if name == 'Perceptron':\n",
    "         parameters = {'tfidf__ngram_range': [(1, 2), (2, 2)],'tfidf__min_df': [2, 3, 6], 'tfidf__max_df': [0.8, 0.6, 0.7], 'tfidf__sublinear_tf': [True, False],\n",
    "                      'model__alpha': [0.000001, 0.001, 0.01], 'model__penalty': ['l2', 'l1'], 'model__fit_intercept': [True, False], 'model__shuffle': [True, False]}\n",
    "    \n",
    "    elif name == 'SGDClassifier':\n",
    "         parameters = {'tfidf__ngram_range': [(1, 2), (2, 2)], 'tfidf__min_df': [4, 3, 6], 'tfidf__max_df': [0.8, 0.6, 0.7], \n",
    "                      'model__alpha': [1e-3, 1e-4], 'model__penalty': ['l1', 'l2'], 'model__fit_intercept': [True, False], 'model__loss': ['hinge', 'log', 'modified_huber']}\n",
    "\n",
    "    return parameters\n"
   ]
  },
  {
   "cell_type": "code",
   "execution_count": 25,
   "metadata": {
    "colab": {
     "base_uri": "https://localhost:8080/",
     "height": 552
    },
    "id": "kd4RUGcNtzn2",
    "outputId": "6578e778-3d00-46c4-f726-0ff764079a77"
   },
   "outputs": [
    {
     "data": {
      "text/html": [
       "<style>#sk-3a8a364a-1fb4-4ae2-9534-8b0bd3e28f4c {color: black;background-color: white;}#sk-3a8a364a-1fb4-4ae2-9534-8b0bd3e28f4c pre{padding: 0;}#sk-3a8a364a-1fb4-4ae2-9534-8b0bd3e28f4c div.sk-toggleable {background-color: white;}#sk-3a8a364a-1fb4-4ae2-9534-8b0bd3e28f4c label.sk-toggleable__label {cursor: pointer;display: block;width: 100%;margin-bottom: 0;padding: 0.3em;box-sizing: border-box;text-align: center;}#sk-3a8a364a-1fb4-4ae2-9534-8b0bd3e28f4c label.sk-toggleable__label-arrow:before {content: \"▸\";float: left;margin-right: 0.25em;color: #696969;}#sk-3a8a364a-1fb4-4ae2-9534-8b0bd3e28f4c label.sk-toggleable__label-arrow:hover:before {color: black;}#sk-3a8a364a-1fb4-4ae2-9534-8b0bd3e28f4c div.sk-estimator:hover label.sk-toggleable__label-arrow:before {color: black;}#sk-3a8a364a-1fb4-4ae2-9534-8b0bd3e28f4c div.sk-toggleable__content {max-height: 0;max-width: 0;overflow: hidden;text-align: left;background-color: #f0f8ff;}#sk-3a8a364a-1fb4-4ae2-9534-8b0bd3e28f4c div.sk-toggleable__content pre {margin: 0.2em;color: black;border-radius: 0.25em;background-color: #f0f8ff;}#sk-3a8a364a-1fb4-4ae2-9534-8b0bd3e28f4c input.sk-toggleable__control:checked~div.sk-toggleable__content {max-height: 200px;max-width: 100%;overflow: auto;}#sk-3a8a364a-1fb4-4ae2-9534-8b0bd3e28f4c input.sk-toggleable__control:checked~label.sk-toggleable__label-arrow:before {content: \"▾\";}#sk-3a8a364a-1fb4-4ae2-9534-8b0bd3e28f4c div.sk-estimator input.sk-toggleable__control:checked~label.sk-toggleable__label {background-color: #d4ebff;}#sk-3a8a364a-1fb4-4ae2-9534-8b0bd3e28f4c div.sk-label input.sk-toggleable__control:checked~label.sk-toggleable__label {background-color: #d4ebff;}#sk-3a8a364a-1fb4-4ae2-9534-8b0bd3e28f4c input.sk-hidden--visually {border: 0;clip: rect(1px 1px 1px 1px);clip: rect(1px, 1px, 1px, 1px);height: 1px;margin: -1px;overflow: hidden;padding: 0;position: absolute;width: 1px;}#sk-3a8a364a-1fb4-4ae2-9534-8b0bd3e28f4c div.sk-estimator {font-family: monospace;background-color: #f0f8ff;border: 1px dotted black;border-radius: 0.25em;box-sizing: border-box;margin-bottom: 0.5em;}#sk-3a8a364a-1fb4-4ae2-9534-8b0bd3e28f4c div.sk-estimator:hover {background-color: #d4ebff;}#sk-3a8a364a-1fb4-4ae2-9534-8b0bd3e28f4c div.sk-parallel-item::after {content: \"\";width: 100%;border-bottom: 1px solid gray;flex-grow: 1;}#sk-3a8a364a-1fb4-4ae2-9534-8b0bd3e28f4c div.sk-label:hover label.sk-toggleable__label {background-color: #d4ebff;}#sk-3a8a364a-1fb4-4ae2-9534-8b0bd3e28f4c div.sk-serial::before {content: \"\";position: absolute;border-left: 1px solid gray;box-sizing: border-box;top: 2em;bottom: 0;left: 50%;}#sk-3a8a364a-1fb4-4ae2-9534-8b0bd3e28f4c div.sk-serial {display: flex;flex-direction: column;align-items: center;background-color: white;padding-right: 0.2em;padding-left: 0.2em;}#sk-3a8a364a-1fb4-4ae2-9534-8b0bd3e28f4c div.sk-item {z-index: 1;}#sk-3a8a364a-1fb4-4ae2-9534-8b0bd3e28f4c div.sk-parallel {display: flex;align-items: stretch;justify-content: center;background-color: white;}#sk-3a8a364a-1fb4-4ae2-9534-8b0bd3e28f4c div.sk-parallel::before {content: \"\";position: absolute;border-left: 1px solid gray;box-sizing: border-box;top: 2em;bottom: 0;left: 50%;}#sk-3a8a364a-1fb4-4ae2-9534-8b0bd3e28f4c div.sk-parallel-item {display: flex;flex-direction: column;position: relative;background-color: white;}#sk-3a8a364a-1fb4-4ae2-9534-8b0bd3e28f4c div.sk-parallel-item:first-child::after {align-self: flex-end;width: 50%;}#sk-3a8a364a-1fb4-4ae2-9534-8b0bd3e28f4c div.sk-parallel-item:last-child::after {align-self: flex-start;width: 50%;}#sk-3a8a364a-1fb4-4ae2-9534-8b0bd3e28f4c div.sk-parallel-item:only-child::after {width: 0;}#sk-3a8a364a-1fb4-4ae2-9534-8b0bd3e28f4c div.sk-dashed-wrapped {border: 1px dashed gray;margin: 0 0.4em 0.5em 0.4em;box-sizing: border-box;padding-bottom: 0.4em;background-color: white;position: relative;}#sk-3a8a364a-1fb4-4ae2-9534-8b0bd3e28f4c div.sk-label label {font-family: monospace;font-weight: bold;background-color: white;display: inline-block;line-height: 1.2em;}#sk-3a8a364a-1fb4-4ae2-9534-8b0bd3e28f4c div.sk-label-container {position: relative;z-index: 2;text-align: center;}#sk-3a8a364a-1fb4-4ae2-9534-8b0bd3e28f4c div.sk-container {/* jupyter's `normalize.less` sets `[hidden] { display: none; }` but bootstrap.min.css set `[hidden] { display: none !important; }` so we also need the `!important` here to be able to override the default hidden behavior on the sphinx rendered scikit-learn.org. See: https://github.com/scikit-learn/scikit-learn/issues/21755 */display: inline-block !important;position: relative;}#sk-3a8a364a-1fb4-4ae2-9534-8b0bd3e28f4c div.sk-text-repr-fallback {display: none;}</style><div id=\"sk-3a8a364a-1fb4-4ae2-9534-8b0bd3e28f4c\" class=\"sk-top-container\"><div class=\"sk-text-repr-fallback\"><pre>GridSearchCV(cv=10,\n",
       "             estimator=Pipeline(steps=[(&#x27;tfidf&#x27;, TfidfVectorizer()),\n",
       "                                       (&#x27;norm&#x27;, Normalizer()),\n",
       "                                       (&#x27;model&#x27;, Perceptron())]),\n",
       "             param_grid={&#x27;model__alpha&#x27;: [1e-06, 0.001, 0.01],\n",
       "                         &#x27;model__fit_intercept&#x27;: [True, False],\n",
       "                         &#x27;model__penalty&#x27;: [&#x27;l2&#x27;, &#x27;l1&#x27;],\n",
       "                         &#x27;model__shuffle&#x27;: [True, False],\n",
       "                         &#x27;tfidf__max_df&#x27;: [0.8, 0.6, 0.7],\n",
       "                         &#x27;tfidf__min_df&#x27;: [2, 3, 6],\n",
       "                         &#x27;tfidf__ngram_range&#x27;: [(1, 2), (2, 2)],\n",
       "                         &#x27;tfidf__sublinear_tf&#x27;: [True, False]},\n",
       "             scoring=make_scorer(f1_score, average=macro))</pre><b>Please rerun this cell to show the HTML repr or trust the notebook.</b></div><div class=\"sk-container\" hidden><div class=\"sk-item sk-dashed-wrapped\"><div class=\"sk-label-container\"><div class=\"sk-label sk-toggleable\"><input class=\"sk-toggleable__control sk-hidden--visually\" id=\"e284751d-6509-43f2-8d8e-a100a83fba9f\" type=\"checkbox\" ><label for=\"e284751d-6509-43f2-8d8e-a100a83fba9f\" class=\"sk-toggleable__label sk-toggleable__label-arrow\">GridSearchCV</label><div class=\"sk-toggleable__content\"><pre>GridSearchCV(cv=10,\n",
       "             estimator=Pipeline(steps=[(&#x27;tfidf&#x27;, TfidfVectorizer()),\n",
       "                                       (&#x27;norm&#x27;, Normalizer()),\n",
       "                                       (&#x27;model&#x27;, Perceptron())]),\n",
       "             param_grid={&#x27;model__alpha&#x27;: [1e-06, 0.001, 0.01],\n",
       "                         &#x27;model__fit_intercept&#x27;: [True, False],\n",
       "                         &#x27;model__penalty&#x27;: [&#x27;l2&#x27;, &#x27;l1&#x27;],\n",
       "                         &#x27;model__shuffle&#x27;: [True, False],\n",
       "                         &#x27;tfidf__max_df&#x27;: [0.8, 0.6, 0.7],\n",
       "                         &#x27;tfidf__min_df&#x27;: [2, 3, 6],\n",
       "                         &#x27;tfidf__ngram_range&#x27;: [(1, 2), (2, 2)],\n",
       "                         &#x27;tfidf__sublinear_tf&#x27;: [True, False]},\n",
       "             scoring=make_scorer(f1_score, average=macro))</pre></div></div></div><div class=\"sk-parallel\"><div class=\"sk-parallel-item\"><div class=\"sk-item\"><div class=\"sk-serial\"><div class=\"sk-item\"><div class=\"sk-serial\"><div class=\"sk-item\"><div class=\"sk-estimator sk-toggleable\"><input class=\"sk-toggleable__control sk-hidden--visually\" id=\"62b4cf51-17d7-4ec1-90dc-b66a03f3dbcf\" type=\"checkbox\" ><label for=\"62b4cf51-17d7-4ec1-90dc-b66a03f3dbcf\" class=\"sk-toggleable__label sk-toggleable__label-arrow\">TfidfVectorizer</label><div class=\"sk-toggleable__content\"><pre>TfidfVectorizer()</pre></div></div></div><div class=\"sk-item\"><div class=\"sk-estimator sk-toggleable\"><input class=\"sk-toggleable__control sk-hidden--visually\" id=\"e5da85d6-46f4-4f70-833d-2a9e07062f2a\" type=\"checkbox\" ><label for=\"e5da85d6-46f4-4f70-833d-2a9e07062f2a\" class=\"sk-toggleable__label sk-toggleable__label-arrow\">Normalizer</label><div class=\"sk-toggleable__content\"><pre>Normalizer()</pre></div></div></div><div class=\"sk-item\"><div class=\"sk-estimator sk-toggleable\"><input class=\"sk-toggleable__control sk-hidden--visually\" id=\"66f7726f-1ea9-458e-af99-9e150723bca7\" type=\"checkbox\" ><label for=\"66f7726f-1ea9-458e-af99-9e150723bca7\" class=\"sk-toggleable__label sk-toggleable__label-arrow\">Perceptron</label><div class=\"sk-toggleable__content\"><pre>Perceptron()</pre></div></div></div></div></div></div></div></div></div></div></div></div>"
      ],
      "text/plain": [
       "GridSearchCV(cv=10,\n",
       "             estimator=Pipeline(steps=[('tfidf', TfidfVectorizer()),\n",
       "                                       ('norm', Normalizer()),\n",
       "                                       ('model', Perceptron())]),\n",
       "             param_grid={'model__alpha': [1e-06, 0.001, 0.01],\n",
       "                         'model__fit_intercept': [True, False],\n",
       "                         'model__penalty': ['l2', 'l1'],\n",
       "                         'model__shuffle': [True, False],\n",
       "                         'tfidf__max_df': [0.8, 0.6, 0.7],\n",
       "                         'tfidf__min_df': [2, 3, 6],\n",
       "                         'tfidf__ngram_range': [(1, 2), (2, 2)],\n",
       "                         'tfidf__sublinear_tf': [True, False]},\n",
       "             scoring=make_scorer(f1_score, average=macro))"
      ]
     },
     "execution_count": 25,
     "metadata": {},
     "output_type": "execute_result"
    },
    {
     "name": "stdout",
     "output_type": "stream",
     "text": [
      "Best score is: 0.737\n",
      "Best estimator: Pipeline(steps=[('tfidf',\n",
      "                 TfidfVectorizer(max_df=0.7, min_df=3, ngram_range=(1, 2),\n",
      "                                 sublinear_tf=True)),\n",
      "                ('norm', Normalizer()),\n",
      "                ('model',\n",
      "                 Perceptron(alpha=1e-06, fit_intercept=False, penalty='l2',\n",
      "                            shuffle=False))])\n"
     ]
    },
    {
     "data": {
      "text/html": [
       "<style>#sk-d5309d75-ac15-4407-b4a3-c220cb658927 {color: black;background-color: white;}#sk-d5309d75-ac15-4407-b4a3-c220cb658927 pre{padding: 0;}#sk-d5309d75-ac15-4407-b4a3-c220cb658927 div.sk-toggleable {background-color: white;}#sk-d5309d75-ac15-4407-b4a3-c220cb658927 label.sk-toggleable__label {cursor: pointer;display: block;width: 100%;margin-bottom: 0;padding: 0.3em;box-sizing: border-box;text-align: center;}#sk-d5309d75-ac15-4407-b4a3-c220cb658927 label.sk-toggleable__label-arrow:before {content: \"▸\";float: left;margin-right: 0.25em;color: #696969;}#sk-d5309d75-ac15-4407-b4a3-c220cb658927 label.sk-toggleable__label-arrow:hover:before {color: black;}#sk-d5309d75-ac15-4407-b4a3-c220cb658927 div.sk-estimator:hover label.sk-toggleable__label-arrow:before {color: black;}#sk-d5309d75-ac15-4407-b4a3-c220cb658927 div.sk-toggleable__content {max-height: 0;max-width: 0;overflow: hidden;text-align: left;background-color: #f0f8ff;}#sk-d5309d75-ac15-4407-b4a3-c220cb658927 div.sk-toggleable__content pre {margin: 0.2em;color: black;border-radius: 0.25em;background-color: #f0f8ff;}#sk-d5309d75-ac15-4407-b4a3-c220cb658927 input.sk-toggleable__control:checked~div.sk-toggleable__content {max-height: 200px;max-width: 100%;overflow: auto;}#sk-d5309d75-ac15-4407-b4a3-c220cb658927 input.sk-toggleable__control:checked~label.sk-toggleable__label-arrow:before {content: \"▾\";}#sk-d5309d75-ac15-4407-b4a3-c220cb658927 div.sk-estimator input.sk-toggleable__control:checked~label.sk-toggleable__label {background-color: #d4ebff;}#sk-d5309d75-ac15-4407-b4a3-c220cb658927 div.sk-label input.sk-toggleable__control:checked~label.sk-toggleable__label {background-color: #d4ebff;}#sk-d5309d75-ac15-4407-b4a3-c220cb658927 input.sk-hidden--visually {border: 0;clip: rect(1px 1px 1px 1px);clip: rect(1px, 1px, 1px, 1px);height: 1px;margin: -1px;overflow: hidden;padding: 0;position: absolute;width: 1px;}#sk-d5309d75-ac15-4407-b4a3-c220cb658927 div.sk-estimator {font-family: monospace;background-color: #f0f8ff;border: 1px dotted black;border-radius: 0.25em;box-sizing: border-box;margin-bottom: 0.5em;}#sk-d5309d75-ac15-4407-b4a3-c220cb658927 div.sk-estimator:hover {background-color: #d4ebff;}#sk-d5309d75-ac15-4407-b4a3-c220cb658927 div.sk-parallel-item::after {content: \"\";width: 100%;border-bottom: 1px solid gray;flex-grow: 1;}#sk-d5309d75-ac15-4407-b4a3-c220cb658927 div.sk-label:hover label.sk-toggleable__label {background-color: #d4ebff;}#sk-d5309d75-ac15-4407-b4a3-c220cb658927 div.sk-serial::before {content: \"\";position: absolute;border-left: 1px solid gray;box-sizing: border-box;top: 2em;bottom: 0;left: 50%;}#sk-d5309d75-ac15-4407-b4a3-c220cb658927 div.sk-serial {display: flex;flex-direction: column;align-items: center;background-color: white;padding-right: 0.2em;padding-left: 0.2em;}#sk-d5309d75-ac15-4407-b4a3-c220cb658927 div.sk-item {z-index: 1;}#sk-d5309d75-ac15-4407-b4a3-c220cb658927 div.sk-parallel {display: flex;align-items: stretch;justify-content: center;background-color: white;}#sk-d5309d75-ac15-4407-b4a3-c220cb658927 div.sk-parallel::before {content: \"\";position: absolute;border-left: 1px solid gray;box-sizing: border-box;top: 2em;bottom: 0;left: 50%;}#sk-d5309d75-ac15-4407-b4a3-c220cb658927 div.sk-parallel-item {display: flex;flex-direction: column;position: relative;background-color: white;}#sk-d5309d75-ac15-4407-b4a3-c220cb658927 div.sk-parallel-item:first-child::after {align-self: flex-end;width: 50%;}#sk-d5309d75-ac15-4407-b4a3-c220cb658927 div.sk-parallel-item:last-child::after {align-self: flex-start;width: 50%;}#sk-d5309d75-ac15-4407-b4a3-c220cb658927 div.sk-parallel-item:only-child::after {width: 0;}#sk-d5309d75-ac15-4407-b4a3-c220cb658927 div.sk-dashed-wrapped {border: 1px dashed gray;margin: 0 0.4em 0.5em 0.4em;box-sizing: border-box;padding-bottom: 0.4em;background-color: white;position: relative;}#sk-d5309d75-ac15-4407-b4a3-c220cb658927 div.sk-label label {font-family: monospace;font-weight: bold;background-color: white;display: inline-block;line-height: 1.2em;}#sk-d5309d75-ac15-4407-b4a3-c220cb658927 div.sk-label-container {position: relative;z-index: 2;text-align: center;}#sk-d5309d75-ac15-4407-b4a3-c220cb658927 div.sk-container {/* jupyter's `normalize.less` sets `[hidden] { display: none; }` but bootstrap.min.css set `[hidden] { display: none !important; }` so we also need the `!important` here to be able to override the default hidden behavior on the sphinx rendered scikit-learn.org. See: https://github.com/scikit-learn/scikit-learn/issues/21755 */display: inline-block !important;position: relative;}#sk-d5309d75-ac15-4407-b4a3-c220cb658927 div.sk-text-repr-fallback {display: none;}</style><div id=\"sk-d5309d75-ac15-4407-b4a3-c220cb658927\" class=\"sk-top-container\"><div class=\"sk-text-repr-fallback\"><pre>GridSearchCV(cv=10,\n",
       "             estimator=Pipeline(steps=[(&#x27;tfidf&#x27;, TfidfVectorizer()),\n",
       "                                       (&#x27;norm&#x27;, Normalizer()),\n",
       "                                       (&#x27;model&#x27;, SGDClassifier())]),\n",
       "             param_grid={&#x27;model__alpha&#x27;: [0.001, 0.0001],\n",
       "                         &#x27;model__fit_intercept&#x27;: [True, False],\n",
       "                         &#x27;model__loss&#x27;: [&#x27;hinge&#x27;, &#x27;log&#x27;, &#x27;modified_huber&#x27;],\n",
       "                         &#x27;model__penalty&#x27;: [&#x27;l1&#x27;, &#x27;l2&#x27;],\n",
       "                         &#x27;tfidf__max_df&#x27;: [0.8, 0.6, 0.7],\n",
       "                         &#x27;tfidf__min_df&#x27;: [4, 3, 6],\n",
       "                         &#x27;tfidf__ngram_range&#x27;: [(1, 2), (2, 2)]},\n",
       "             scoring=make_scorer(f1_score, average=macro))</pre><b>Please rerun this cell to show the HTML repr or trust the notebook.</b></div><div class=\"sk-container\" hidden><div class=\"sk-item sk-dashed-wrapped\"><div class=\"sk-label-container\"><div class=\"sk-label sk-toggleable\"><input class=\"sk-toggleable__control sk-hidden--visually\" id=\"391f5da8-da85-4e7e-9361-3175dd60e593\" type=\"checkbox\" ><label for=\"391f5da8-da85-4e7e-9361-3175dd60e593\" class=\"sk-toggleable__label sk-toggleable__label-arrow\">GridSearchCV</label><div class=\"sk-toggleable__content\"><pre>GridSearchCV(cv=10,\n",
       "             estimator=Pipeline(steps=[(&#x27;tfidf&#x27;, TfidfVectorizer()),\n",
       "                                       (&#x27;norm&#x27;, Normalizer()),\n",
       "                                       (&#x27;model&#x27;, SGDClassifier())]),\n",
       "             param_grid={&#x27;model__alpha&#x27;: [0.001, 0.0001],\n",
       "                         &#x27;model__fit_intercept&#x27;: [True, False],\n",
       "                         &#x27;model__loss&#x27;: [&#x27;hinge&#x27;, &#x27;log&#x27;, &#x27;modified_huber&#x27;],\n",
       "                         &#x27;model__penalty&#x27;: [&#x27;l1&#x27;, &#x27;l2&#x27;],\n",
       "                         &#x27;tfidf__max_df&#x27;: [0.8, 0.6, 0.7],\n",
       "                         &#x27;tfidf__min_df&#x27;: [4, 3, 6],\n",
       "                         &#x27;tfidf__ngram_range&#x27;: [(1, 2), (2, 2)]},\n",
       "             scoring=make_scorer(f1_score, average=macro))</pre></div></div></div><div class=\"sk-parallel\"><div class=\"sk-parallel-item\"><div class=\"sk-item\"><div class=\"sk-serial\"><div class=\"sk-item\"><div class=\"sk-serial\"><div class=\"sk-item\"><div class=\"sk-estimator sk-toggleable\"><input class=\"sk-toggleable__control sk-hidden--visually\" id=\"875e1edc-db4d-4707-8df9-ee327c9dcb78\" type=\"checkbox\" ><label for=\"875e1edc-db4d-4707-8df9-ee327c9dcb78\" class=\"sk-toggleable__label sk-toggleable__label-arrow\">TfidfVectorizer</label><div class=\"sk-toggleable__content\"><pre>TfidfVectorizer()</pre></div></div></div><div class=\"sk-item\"><div class=\"sk-estimator sk-toggleable\"><input class=\"sk-toggleable__control sk-hidden--visually\" id=\"0b7709a6-f42c-4215-b3c4-873e25badb17\" type=\"checkbox\" ><label for=\"0b7709a6-f42c-4215-b3c4-873e25badb17\" class=\"sk-toggleable__label sk-toggleable__label-arrow\">Normalizer</label><div class=\"sk-toggleable__content\"><pre>Normalizer()</pre></div></div></div><div class=\"sk-item\"><div class=\"sk-estimator sk-toggleable\"><input class=\"sk-toggleable__control sk-hidden--visually\" id=\"98bf6d7b-dd5a-46f1-be14-7bf5a2225c70\" type=\"checkbox\" ><label for=\"98bf6d7b-dd5a-46f1-be14-7bf5a2225c70\" class=\"sk-toggleable__label sk-toggleable__label-arrow\">SGDClassifier</label><div class=\"sk-toggleable__content\"><pre>SGDClassifier()</pre></div></div></div></div></div></div></div></div></div></div></div></div>"
      ],
      "text/plain": [
       "GridSearchCV(cv=10,\n",
       "             estimator=Pipeline(steps=[('tfidf', TfidfVectorizer()),\n",
       "                                       ('norm', Normalizer()),\n",
       "                                       ('model', SGDClassifier())]),\n",
       "             param_grid={'model__alpha': [0.001, 0.0001],\n",
       "                         'model__fit_intercept': [True, False],\n",
       "                         'model__loss': ['hinge', 'log', 'modified_huber'],\n",
       "                         'model__penalty': ['l1', 'l2'],\n",
       "                         'tfidf__max_df': [0.8, 0.6, 0.7],\n",
       "                         'tfidf__min_df': [4, 3, 6],\n",
       "                         'tfidf__ngram_range': [(1, 2), (2, 2)]},\n",
       "             scoring=make_scorer(f1_score, average=macro))"
      ]
     },
     "execution_count": 25,
     "metadata": {},
     "output_type": "execute_result"
    },
    {
     "name": "stdout",
     "output_type": "stream",
     "text": [
      "Best score is: 0.714\n",
      "Best estimator: Pipeline(steps=[('tfidf',\n",
      "                 TfidfVectorizer(max_df=0.6, min_df=3, ngram_range=(1, 2))),\n",
      "                ('norm', Normalizer()),\n",
      "                ('model', SGDClassifier(penalty='l1'))])\n"
     ]
    }
   ],
   "source": [
    "best_score_overall = 0.0\n",
    "best_model_overall = None\n",
    "\n",
    "for name, model in chosen_models:\n",
    "    pipeline = Pipeline([\n",
    "        ('tfidf', TfidfVectorizer()),\n",
    "        ('norm', preprocessing.Normalizer(norm = 'l2')),\n",
    "        ('model', model)\n",
    "    ])\n",
    "  \n",
    "\n",
    "    parameters = set_parameters_for_the_chosen_models()\n",
    "\n",
    "    grid = GridSearchCV(pipeline, parameters, scoring=make_scorer(f1_score, average='macro'), cv=10)\n",
    "    grid.fit(X_train, y_train)\n",
    "\n",
    "    if best_score_overall < grid.best_score_:\n",
    "        best_score_overall = grid.best_score_\n",
    "        best_model_overall = grid.best_estimator_\n",
    "\n",
    "    print(\"Best score is:\", round(grid.best_score_, 3))\n",
    "    print(\"Best estimator:\", grid.best_estimator_)\n"
   ]
  },
  {
   "cell_type": "code",
   "execution_count": 40,
   "metadata": {
    "colab": {
     "base_uri": "https://localhost:8080/"
    },
    "id": "NuiggAcDxq3E",
    "outputId": "211ebb5f-5fc4-465a-fb1b-785e63f2fbe5"
   },
   "outputs": [
    {
     "name": "stdout",
     "output_type": "stream",
     "text": [
      "The best model overall is: Pipeline(steps=[('tfidf',\n",
      "                 TfidfVectorizer(max_df=0.7, min_df=3, ngram_range=(1, 2),\n",
      "                                 sublinear_tf=True)),\n",
      "                ('norm', Normalizer()),\n",
      "                ('model',\n",
      "                 Perceptron(alpha=1e-06, fit_intercept=False, penalty='l2',\n",
      "                            shuffle=False))])\n",
      "\n",
      "The best score: 0.7368324272547824\n"
     ]
    }
   ],
   "source": [
    "print(f\"The best model overall is: {best_model_overall}\\n\")\n",
    "print(\"The best score:\", best_score_overall)"
   ]
  },
  {
   "cell_type": "markdown",
   "metadata": {
    "id": "9Re6jaI60ZMV"
   },
   "source": [
    "# Ultimately, I was able to further enhance the performance of the Perceptron model.\n",
    "\n",
    "Consequently, I will proceed with utilizing the model that yielded the most favorable outcomes to make predictions for the initial ten stories as well as the final ten stories. \n",
    "\n",
    "I will take the parameters which have shown the best results:\n",
    "\n",
    "**The model and HP:** Perceptron(alpha=1e-06, fit_intercept=False, penalty='l2', shuffle=False)\n",
    "\n",
    "**Vectorizer:** Tfidf(max_df=0.7, min_df=3, ngram_range=(1, 2), sublinear_tf=True)\n",
    "\n",
    "**Preprocecessoing:** norm = 'l2' \n",
    "\n",
    "---\n",
    "\n"
   ]
  },
  {
   "cell_type": "markdown",
   "metadata": {},
   "source": [
    "# The final model:\n",
    "\n",
    "The `Perceptron()` model will be chosen over the `SGDCclassifier()` model due to its perceived higher reliability and overall better results. The `SGDCclassifier()` model exhibits inconsistent scores across multiple runs, which poses a significant concern. In contrast, the `Perceptron()` model gives higher score and consistently maintains its performance throughout various iterations."
   ]
  },
  {
   "cell_type": "code",
   "execution_count": 53,
   "metadata": {},
   "outputs": [],
   "source": [
    "def test_df_prediction(chosen_model, model_score):\n",
    "    X_test = df_test[\"story\"]\n",
    "    y_pred = chosen_model.predict(X_test)\n",
    "    print(f\"The score of the model is: {model_score}\\n\")\n",
    "    print(f\"The model and all of the parameters are: {chosen_model}\\n\")\n",
    "\n",
    "    # Combine the predicted labels with the stories in the test dataframe\n",
    "    df_test['predicted_gender'] = y_pred\n",
    "\n",
    "    # Print the top 10 and bottom 10 stories\n",
    "    print('Top 10 Stories:')\n",
    "    display(df_test.head(10))\n",
    "    print('\\nBottom 10 Stories:')\n",
    "    display(df_test.tail(10))\n",
    "    \n"
   ]
  },
  {
   "cell_type": "code",
   "execution_count": 54,
   "metadata": {},
   "outputs": [
    {
     "name": "stdout",
     "output_type": "stream",
     "text": [
      "The score of the model is: 0.7368324272547824\n",
      "\n",
      "The model and all of the parameters are: Pipeline(steps=[('tfidf',\n",
      "                 TfidfVectorizer(max_df=0.7, min_df=3, ngram_range=(1, 2),\n",
      "                                 sublinear_tf=True)),\n",
      "                ('norm', Normalizer()),\n",
      "                ('model',\n",
      "                 Perceptron(alpha=1e-06, fit_intercept=False, penalty='l2',\n",
      "                            shuffle=False))])\n",
      "\n",
      "Top 10 Stories:\n"
     ]
    },
    {
     "data": {
      "text/html": [
       "<div>\n",
       "<style scoped>\n",
       "    .dataframe tbody tr th:only-of-type {\n",
       "        vertical-align: middle;\n",
       "    }\n",
       "\n",
       "    .dataframe tbody tr th {\n",
       "        vertical-align: top;\n",
       "    }\n",
       "\n",
       "    .dataframe thead th {\n",
       "        text-align: right;\n",
       "    }\n",
       "</style>\n",
       "<table border=\"1\" class=\"dataframe\">\n",
       "  <thead>\n",
       "    <tr style=\"text-align: right;\">\n",
       "      <th></th>\n",
       "      <th>test_example_id</th>\n",
       "      <th>story</th>\n",
       "      <th>predicted_gender</th>\n",
       "    </tr>\n",
       "  </thead>\n",
       "  <tbody>\n",
       "    <tr>\n",
       "      <th>0</th>\n",
       "      <td>0</td>\n",
       "      <td>כל קיץ אני והמשפחה נוסעים לארצות הברית לוס אנג...</td>\n",
       "      <td>m</td>\n",
       "    </tr>\n",
       "    <tr>\n",
       "      <th>1</th>\n",
       "      <td>1</td>\n",
       "      <td>הגעתי לשירות המדינה אחרי שנתיים כפעיל בתנועת \"...</td>\n",
       "      <td>m</td>\n",
       "    </tr>\n",
       "    <tr>\n",
       "      <th>2</th>\n",
       "      <td>2</td>\n",
       "      <td>אחת האהבות הגדולות שלי אלו הכלבים שלי ושל אישת...</td>\n",
       "      <td>m</td>\n",
       "    </tr>\n",
       "    <tr>\n",
       "      <th>3</th>\n",
       "      <td>3</td>\n",
       "      <td>רגע הגיוס לצבא היה הרגע הכי משמעותי עבורי, אני...</td>\n",
       "      <td>m</td>\n",
       "    </tr>\n",
       "    <tr>\n",
       "      <th>4</th>\n",
       "      <td>4</td>\n",
       "      <td>אני הגעתי לברזיל ישר מקולומביה וגם אני עשיתי ע...</td>\n",
       "      <td>m</td>\n",
       "    </tr>\n",
       "    <tr>\n",
       "      <th>5</th>\n",
       "      <td>5</td>\n",
       "      <td>בפעם האחרונה שהייתי מחוץ לארץ ישראל הייתי באפר...</td>\n",
       "      <td>m</td>\n",
       "    </tr>\n",
       "    <tr>\n",
       "      <th>6</th>\n",
       "      <td>6</td>\n",
       "      <td>בשנת 2018 קיבלתי החלטה שאני מתחיל ללמוד לתואר ...</td>\n",
       "      <td>m</td>\n",
       "    </tr>\n",
       "    <tr>\n",
       "      <th>7</th>\n",
       "      <td>7</td>\n",
       "      <td>בנובמבר האחרון הייתי עם חברים בטיול ים אל ים, ...</td>\n",
       "      <td>m</td>\n",
       "    </tr>\n",
       "    <tr>\n",
       "      <th>8</th>\n",
       "      <td>8</td>\n",
       "      <td>לפני מספר חודשים, ביום שמש בהיר, קמתי בבוקר למ...</td>\n",
       "      <td>m</td>\n",
       "    </tr>\n",
       "    <tr>\n",
       "      <th>9</th>\n",
       "      <td>9</td>\n",
       "      <td>אני לא בן אדם שנוטה לשתף בחייו האישיים, אבל או...</td>\n",
       "      <td>m</td>\n",
       "    </tr>\n",
       "  </tbody>\n",
       "</table>\n",
       "</div>"
      ],
      "text/plain": [
       "   test_example_id                                              story  \\\n",
       "0                0  כל קיץ אני והמשפחה נוסעים לארצות הברית לוס אנג...   \n",
       "1                1  הגעתי לשירות המדינה אחרי שנתיים כפעיל בתנועת \"...   \n",
       "2                2  אחת האהבות הגדולות שלי אלו הכלבים שלי ושל אישת...   \n",
       "3                3  רגע הגיוס לצבא היה הרגע הכי משמעותי עבורי, אני...   \n",
       "4                4  אני הגעתי לברזיל ישר מקולומביה וגם אני עשיתי ע...   \n",
       "5                5  בפעם האחרונה שהייתי מחוץ לארץ ישראל הייתי באפר...   \n",
       "6                6  בשנת 2018 קיבלתי החלטה שאני מתחיל ללמוד לתואר ...   \n",
       "7                7  בנובמבר האחרון הייתי עם חברים בטיול ים אל ים, ...   \n",
       "8                8  לפני מספר חודשים, ביום שמש בהיר, קמתי בבוקר למ...   \n",
       "9                9  אני לא בן אדם שנוטה לשתף בחייו האישיים, אבל או...   \n",
       "\n",
       "  predicted_gender  \n",
       "0                m  \n",
       "1                m  \n",
       "2                m  \n",
       "3                m  \n",
       "4                m  \n",
       "5                m  \n",
       "6                m  \n",
       "7                m  \n",
       "8                m  \n",
       "9                m  "
      ]
     },
     "metadata": {},
     "output_type": "display_data"
    },
    {
     "name": "stdout",
     "output_type": "stream",
     "text": [
      "\n",
      "Bottom 10 Stories:\n"
     ]
    },
    {
     "data": {
      "text/html": [
       "<div>\n",
       "<style scoped>\n",
       "    .dataframe tbody tr th:only-of-type {\n",
       "        vertical-align: middle;\n",
       "    }\n",
       "\n",
       "    .dataframe tbody tr th {\n",
       "        vertical-align: top;\n",
       "    }\n",
       "\n",
       "    .dataframe thead th {\n",
       "        text-align: right;\n",
       "    }\n",
       "</style>\n",
       "<table border=\"1\" class=\"dataframe\">\n",
       "  <thead>\n",
       "    <tr style=\"text-align: right;\">\n",
       "      <th></th>\n",
       "      <th>test_example_id</th>\n",
       "      <th>story</th>\n",
       "      <th>predicted_gender</th>\n",
       "    </tr>\n",
       "  </thead>\n",
       "  <tbody>\n",
       "    <tr>\n",
       "      <th>313</th>\n",
       "      <td>313</td>\n",
       "      <td>שלום, לפני כמה חודשים אני ועוד שני חברים מהילד...</td>\n",
       "      <td>m</td>\n",
       "    </tr>\n",
       "    <tr>\n",
       "      <th>314</th>\n",
       "      <td>314</td>\n",
       "      <td>השנה לא הייתה לנו חופשה אמיתית, חווינו סגרים, ...</td>\n",
       "      <td>f</td>\n",
       "    </tr>\n",
       "    <tr>\n",
       "      <th>315</th>\n",
       "      <td>315</td>\n",
       "      <td>לפני כמה חודשים, טסתי לאוקראינה ובאותו ביקור ה...</td>\n",
       "      <td>m</td>\n",
       "    </tr>\n",
       "    <tr>\n",
       "      <th>316</th>\n",
       "      <td>316</td>\n",
       "      <td>בנסיעה האחרונה שלי לחול במהלך הקורונה החלטתי ש...</td>\n",
       "      <td>m</td>\n",
       "    </tr>\n",
       "    <tr>\n",
       "      <th>317</th>\n",
       "      <td>317</td>\n",
       "      <td>לפני כמה שנים החלטתי ללכת לקורס גלישה ביחד עם ...</td>\n",
       "      <td>m</td>\n",
       "    </tr>\n",
       "    <tr>\n",
       "      <th>318</th>\n",
       "      <td>318</td>\n",
       "      <td>בשנה האחרונה הרגשתי די תקוע בעבודה, השגרה הפכה...</td>\n",
       "      <td>m</td>\n",
       "    </tr>\n",
       "    <tr>\n",
       "      <th>319</th>\n",
       "      <td>319</td>\n",
       "      <td>אני ואילן חברים טובים מזה 20 שנה תמיד חלמנו לפ...</td>\n",
       "      <td>m</td>\n",
       "    </tr>\n",
       "    <tr>\n",
       "      <th>320</th>\n",
       "      <td>320</td>\n",
       "      <td>מידי יום שישי אני נוהג לנסוע בתחבורה ציבורית ס...</td>\n",
       "      <td>m</td>\n",
       "    </tr>\n",
       "    <tr>\n",
       "      <th>321</th>\n",
       "      <td>321</td>\n",
       "      <td>לפני מספר חודשים, בשיא התחלואה של הגל השני, עמ...</td>\n",
       "      <td>m</td>\n",
       "    </tr>\n",
       "    <tr>\n",
       "      <th>322</th>\n",
       "      <td>322</td>\n",
       "      <td>היום בו דיווחתי על גניבה של האוטו שלי. בוקר אח...</td>\n",
       "      <td>m</td>\n",
       "    </tr>\n",
       "  </tbody>\n",
       "</table>\n",
       "</div>"
      ],
      "text/plain": [
       "     test_example_id                                              story  \\\n",
       "313              313  שלום, לפני כמה חודשים אני ועוד שני חברים מהילד...   \n",
       "314              314  השנה לא הייתה לנו חופשה אמיתית, חווינו סגרים, ...   \n",
       "315              315  לפני כמה חודשים, טסתי לאוקראינה ובאותו ביקור ה...   \n",
       "316              316  בנסיעה האחרונה שלי לחול במהלך הקורונה החלטתי ש...   \n",
       "317              317  לפני כמה שנים החלטתי ללכת לקורס גלישה ביחד עם ...   \n",
       "318              318  בשנה האחרונה הרגשתי די תקוע בעבודה, השגרה הפכה...   \n",
       "319              319  אני ואילן חברים טובים מזה 20 שנה תמיד חלמנו לפ...   \n",
       "320              320  מידי יום שישי אני נוהג לנסוע בתחבורה ציבורית ס...   \n",
       "321              321  לפני מספר חודשים, בשיא התחלואה של הגל השני, עמ...   \n",
       "322              322  היום בו דיווחתי על גניבה של האוטו שלי. בוקר אח...   \n",
       "\n",
       "    predicted_gender  \n",
       "313                m  \n",
       "314                f  \n",
       "315                m  \n",
       "316                m  \n",
       "317                m  \n",
       "318                m  \n",
       "319                m  \n",
       "320                m  \n",
       "321                m  \n",
       "322                m  "
      ]
     },
     "metadata": {},
     "output_type": "display_data"
    }
   ],
   "source": [
    "test_df_prediction(best_model_overall, best_score_overall)"
   ]
  }
 ],
 "metadata": {
  "colab": {
   "provenance": []
  },
  "kernelspec": {
   "display_name": "Python 3 (ipykernel)",
   "language": "python",
   "name": "python3"
  },
  "language_info": {
   "codemirror_mode": {
    "name": "ipython",
    "version": 3
   },
   "file_extension": ".py",
   "mimetype": "text/x-python",
   "name": "python",
   "nbconvert_exporter": "python",
   "pygments_lexer": "ipython3",
   "version": "3.9.13"
  }
 },
 "nbformat": 4,
 "nbformat_minor": 1
}
